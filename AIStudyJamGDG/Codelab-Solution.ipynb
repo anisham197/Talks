{
  "nbformat": 4,
  "nbformat_minor": 0,
  "metadata": {
    "colab": {
      "name": "WTM AI Study Jam - Solution",
      "version": "0.3.2",
      "provenance": [],
      "collapsed_sections": []
    },
    "kernelspec": {
      "display_name": "Python 2",
      "language": "python",
      "name": "python2"
    }
  },
  "cells": [
    {
      "metadata": {
        "id": "wKR6bZwO4M90",
        "colab_type": "text"
      },
      "cell_type": "markdown",
      "source": [
        "# Learning AI Development with UX (Dec. 8 2018)\n"
      ]
    },
    {
      "metadata": {
        "id": "f_rnfzD_a5UC",
        "colab_type": "text"
      },
      "cell_type": "markdown",
      "source": [
        "Welcome to WTM and GDG Bangalore's session on \"Learning AI  Development with UX\". This notebook is your primary source for reference and place of work for all hands-on aspects of the workshop. \n",
        "\n",
        "The code samples and exercises in this notebook are desgined to run in Google's Colab Environment, while the same can be run on any machine that has python and dependencies for Keras, and Tensorflow installed. "
      ]
    },
    {
      "metadata": {
        "id": "nuhdNNtq4M92",
        "colab_type": "text"
      },
      "cell_type": "markdown",
      "source": [
        "The code snippets have been adapted from various tutorials and notebooks by Googlers and other researchers, to present a curated guide that covers the following aspects of AI development: \n",
        "* Dataset collection\n",
        "* Transforming raw data to features\n",
        "* Choosing a good model architecture\n",
        "* Building and Training an ML Model\n",
        "* Evaluating model performance and parameter tuning\n",
        "\n",
        "----\n",
        "## Text classification - A cookbook\n",
        "\n",
        "The main use case we will be following in this session is centered around Text Classification problems. While we will be alluding to various aspects of AI development mainly from the context of Text Classification, these concepts can be applied to other domains and problems as well. \n",
        "\n",
        "## What can you expect?\n",
        "\n",
        "As this is an end-to-end tutorial, we will be starting with collecting a dataset, and proceed to preprocessing input data to make it suitable for applying ML Algorithms, and then we will look at how to train neural networks with this preprocessed data, and evalutate our model's performance. We will conclude with a note on applying these concepts to other domain problems, and real world scenarios.  Lets get started!\n"
      ]
    },
    {
      "metadata": {
        "id": "Ju8F89y1eSXr",
        "colab_type": "text"
      },
      "cell_type": "markdown",
      "source": [
        "## Dependencies\n",
        "\n",
        "As this is a hands-on workshop, we will be using Python as our programming language of choice, due to the vast number of libraries available for AI development, and its demonstrated ease of use for rapid prototyping. We will be building our models using [`keras`](https://keras.io/), a popular framework for working on Machine Learning problems, and we will be using [`tensorflow`](https://www.tensorflow.org/) as our backend for `keras`, to run our computations.  Don't worry if any of this sounds unfamiliar to you, as you will be able to pick it up as we go along. \n",
        "\n",
        "For those of you trying this out on your local computers, you may need to install `python3`  or `python2.7` along with `keras` and `tensorflow` -  both of which can be installed using pip. \n",
        "\n",
        "If you are running this tutorial in Google's Colab environment, all of these dependencies are installed for you out of the box. Let's start by confirming that we have `keras` installed and available. Run the following snippet to check what version of `keras` is installed here."
      ]
    },
    {
      "metadata": {
        "id": "41p941pj4M9v",
        "colab_type": "code",
        "outputId": "0c7a79a7-a325-4084-c33b-b6193c7fb070",
        "colab": {
          "base_uri": "https://localhost:8080/",
          "height": 51
        }
      },
      "cell_type": "code",
      "source": [
        "import keras\n",
        "keras.__version__"
      ],
      "execution_count": 0,
      "outputs": [
        {
          "output_type": "stream",
          "text": [
            "Using TensorFlow backend.\n"
          ],
          "name": "stderr"
        },
        {
          "output_type": "execute_result",
          "data": {
            "text/plain": [
              "'2.2.4'"
            ]
          },
          "metadata": {
            "tags": []
          },
          "execution_count": 1
        },
        {
          "output_type": "execute_result",
          "data": {
            "text/plain": [
              "'2.2.4'"
            ]
          },
          "metadata": {
            "tags": []
          },
          "execution_count": 2
        }
      ]
    },
    {
      "metadata": {
        "id": "EqOHB_Qk4M97",
        "colab_type": "text"
      },
      "cell_type": "markdown",
      "source": [
        "## The Problem \n",
        "\n",
        "The basic premise of this hands-on session is Text-Classification. Text Classification in itself is a broad problem area that basically deals with categorizing textual data into one or more categories, depending on the objective and context. Some popular examples of Text Classification problems are: \n",
        "\n",
        "* Classifying emails into 'Spam' or 'Not Spam'\n",
        "* Classifying social media posts as 'Hate Speech' or 'Abusive'\n",
        "* Classifying product/movie reviews as 'Positive' or 'Negative'\n",
        "\n",
        "The above examples are that of Binary Classification problems, where the targets/labels are of either one kind or the other. However, Text Classification problems are not only limited to such cases, and we can have classification problems that can have multiple target candidates (more than 2). For example, consider the following cases: \n",
        "\n",
        "* Classifying customer queries into topic categories \n",
        "* Classifying tweets about the weather by time, sentiment, and kind\n",
        "* Multi-label classification of news article: eg assiging labels such as \"crime\", \"finance\" to an article on financial crimes.\n",
        "\n",
        "For the purpose of this hands-on session, we will look at classifying movie reviews into \"positive\" reviews and \"negative\" reviews, just based on the text content of the reviews. While this problem is fairly simple, it is a good starting point to understand the stages of development of an AI Solution, and the techniques we use are transferrable to a whole range of domains and problems. \n",
        "\n",
        "---"
      ]
    },
    {
      "metadata": {
        "id": "Goaskd0o4M-F",
        "colab_type": "text"
      },
      "cell_type": "markdown",
      "source": [
        "## Dataset\n",
        "Let's consider IMDB movie review sentiment prediction task that you may are already be familiar with. Let's quickly prepare the dataset."
      ]
    },
    {
      "metadata": {
        "id": "10f97m3U4M_T",
        "colab_type": "text"
      },
      "cell_type": "markdown",
      "source": [
        "### Download the IMDB data as raw text\n",
        "\n",
        "\n",
        "First, head to `http://ai.stanford.edu/~amaas/data/sentiment/` and download the raw IMDB dataset (if the URL isn't working anymore, just \n",
        "Google \"IMDB dataset\"). Uncompress it.\n"
      ]
    },
    {
      "metadata": {
        "id": "dQc75IX8mjMU",
        "colab_type": "code",
        "outputId": "147aa094-53f9-4cd3-a34b-a7fbe4e08b1e",
        "colab": {
          "base_uri": "https://localhost:8080/",
          "height": 289
        }
      },
      "cell_type": "code",
      "source": [
        "!wget https://github.com/arjun-rao/talks/raw/master/imdb.tar.gz"
      ],
      "execution_count": 0,
      "outputs": [
        {
          "output_type": "stream",
          "text": [
            "--2018-12-07 19:21:25--  https://github.com/arjun-rao/talks/raw/master/imdb.tar.gz\n",
            "Resolving github.com (github.com)... 192.30.253.112, 192.30.253.113\n",
            "Connecting to github.com (github.com)|192.30.253.112|:443... connected.\n",
            "HTTP request sent, awaiting response... 302 Found\n",
            "Location: https://raw.githubusercontent.com/arjun-rao/talks/master/imdb.tar.gz [following]\n",
            "--2018-12-07 19:21:26--  https://raw.githubusercontent.com/arjun-rao/talks/master/imdb.tar.gz\n",
            "Resolving raw.githubusercontent.com (raw.githubusercontent.com)... 151.101.0.133, 151.101.64.133, 151.101.128.133, ...\n",
            "Connecting to raw.githubusercontent.com (raw.githubusercontent.com)|151.101.0.133|:443... connected.\n",
            "HTTP request sent, awaiting response... 200 OK\n",
            "Length: 14806530 (14M) [application/octet-stream]\n",
            "Saving to: ‘imdb.tar.gz’\n",
            "\n",
            "imdb.tar.gz         100%[===================>]  14.12M  38.7MB/s    in 0.4s    \n",
            "\n",
            "2018-12-07 19:21:26 (38.7 MB/s) - ‘imdb.tar.gz’ saved [14806530/14806530]\n",
            "\n"
          ],
          "name": "stdout"
        }
      ]
    },
    {
      "metadata": {
        "id": "mDdywUm_3ovj",
        "colab_type": "code",
        "outputId": "a3fe4d2e-9f77-4e53-cfcb-0393b9af7f21",
        "colab": {
          "base_uri": "https://localhost:8080/",
          "height": 289
        }
      },
      "cell_type": "code",
      "source": [
        "!wget https://github.com/arjun-rao/talks/raw/master/imdb-test.tar.gz"
      ],
      "execution_count": 0,
      "outputs": [
        {
          "output_type": "stream",
          "text": [
            "--2018-12-07 19:21:29--  https://github.com/arjun-rao/talks/raw/master/imdb-test.tar.gz\n",
            "Resolving github.com (github.com)... 192.30.253.112, 192.30.253.113\n",
            "Connecting to github.com (github.com)|192.30.253.112|:443... connected.\n",
            "HTTP request sent, awaiting response... 302 Found\n",
            "Location: https://raw.githubusercontent.com/arjun-rao/talks/master/imdb-test.tar.gz [following]\n",
            "--2018-12-07 19:21:29--  https://raw.githubusercontent.com/arjun-rao/talks/master/imdb-test.tar.gz\n",
            "Resolving raw.githubusercontent.com (raw.githubusercontent.com)... 151.101.0.133, 151.101.64.133, 151.101.128.133, ...\n",
            "Connecting to raw.githubusercontent.com (raw.githubusercontent.com)|151.101.0.133|:443... connected.\n",
            "HTTP request sent, awaiting response... 200 OK\n",
            "Length: 14485124 (14M) [application/octet-stream]\n",
            "Saving to: ‘imdb-test.tar.gz’\n",
            "\n",
            "imdb-test.tar.gz    100%[===================>]  13.81M  --.-KB/s    in 0.1s    \n",
            "\n",
            "2018-12-07 19:21:30 (117 MB/s) - ‘imdb-test.tar.gz’ saved [14485124/14485124]\n",
            "\n"
          ],
          "name": "stdout"
        }
      ]
    },
    {
      "metadata": {
        "id": "27KyFwiH3xKH",
        "colab_type": "code",
        "colab": {}
      },
      "cell_type": "code",
      "source": [
        "!tar -xzf imdb.tar.gz"
      ],
      "execution_count": 0,
      "outputs": []
    },
    {
      "metadata": {
        "id": "d1QgkZlom8Xe",
        "colab_type": "code",
        "colab": {}
      },
      "cell_type": "code",
      "source": [
        "!tar -xzf imdb-test.tar.gz"
      ],
      "execution_count": 0,
      "outputs": []
    },
    {
      "metadata": {
        "id": "ntvXXiujeJDX",
        "colab_type": "text"
      },
      "cell_type": "markdown",
      "source": [
        "Now let's collect the individual training reviews into a list of strings, one string per review, and let's also collect the review labels \n",
        "(positive / negative) into a `labels` list:"
      ]
    },
    {
      "metadata": {
        "id": "bE_tRC-34M_U",
        "colab_type": "code",
        "colab": {}
      },
      "cell_type": "code",
      "source": [
        "import os\n",
        "\n",
        "def load_imdb(imdb_dir):\n",
        "  \"\"\"Loads the imdb dataset from the given path\"\"\"\n",
        "  train_dir = os.path.join(imdb_dir, 'train')\n",
        "\n",
        "  labels = []\n",
        "  texts = []\n",
        "\n",
        "  for label_type in ['neg', 'pos']:\n",
        "      dir_name = os.path.join(train_dir, label_type)\n",
        "      for fname in os.listdir(dir_name):\n",
        "          if fname[-4:] == '.txt':\n",
        "              f = open(os.path.join(dir_name, fname))\n",
        "              texts.append(f.read())\n",
        "              f.close()\n",
        "              if label_type == 'neg':\n",
        "                  labels.append(0)\n",
        "              else:\n",
        "                  labels.append(1)\n",
        "  return texts, labels\n",
        "\n",
        "texts, labels = load_imdb('./')                 "
      ],
      "execution_count": 0,
      "outputs": []
    },
    {
      "metadata": {
        "id": "0FW7tzJb4M_X",
        "colab_type": "text"
      },
      "cell_type": "markdown",
      "source": [
        "### Tokenize the data\n",
        "\n",
        "\n",
        "Let's vectorize the texts we collected. To do this we will also need some popular functions from `nltk`, so let's load them first\n"
      ]
    },
    {
      "metadata": {
        "id": "0MLh_UtrkQc-",
        "colab_type": "code",
        "outputId": "770d2647-c3eb-4ee7-e0ac-cb1d1870ff37",
        "colab": {
          "base_uri": "https://localhost:8080/",
          "height": 806
        }
      },
      "cell_type": "code",
      "source": [
        "import nltk\n",
        "nltk.download('popular')"
      ],
      "execution_count": 0,
      "outputs": [
        {
          "output_type": "stream",
          "text": [
            "[nltk_data] Downloading collection u'popular'\n",
            "[nltk_data]    | \n",
            "[nltk_data]    | Downloading package cmudict to /root/nltk_data...\n",
            "[nltk_data]    |   Unzipping corpora/cmudict.zip.\n",
            "[nltk_data]    | Downloading package gazetteers to /root/nltk_data...\n",
            "[nltk_data]    |   Unzipping corpora/gazetteers.zip.\n",
            "[nltk_data]    | Downloading package genesis to /root/nltk_data...\n",
            "[nltk_data]    |   Unzipping corpora/genesis.zip.\n",
            "[nltk_data]    | Downloading package gutenberg to /root/nltk_data...\n",
            "[nltk_data]    |   Unzipping corpora/gutenberg.zip.\n",
            "[nltk_data]    | Downloading package inaugural to /root/nltk_data...\n",
            "[nltk_data]    |   Unzipping corpora/inaugural.zip.\n",
            "[nltk_data]    | Downloading package movie_reviews to\n",
            "[nltk_data]    |     /root/nltk_data...\n",
            "[nltk_data]    |   Unzipping corpora/movie_reviews.zip.\n",
            "[nltk_data]    | Downloading package names to /root/nltk_data...\n",
            "[nltk_data]    |   Unzipping corpora/names.zip.\n",
            "[nltk_data]    | Downloading package shakespeare to /root/nltk_data...\n",
            "[nltk_data]    |   Unzipping corpora/shakespeare.zip.\n",
            "[nltk_data]    | Downloading package stopwords to /root/nltk_data...\n",
            "[nltk_data]    |   Unzipping corpora/stopwords.zip.\n",
            "[nltk_data]    | Downloading package treebank to /root/nltk_data...\n",
            "[nltk_data]    |   Unzipping corpora/treebank.zip.\n",
            "[nltk_data]    | Downloading package twitter_samples to\n",
            "[nltk_data]    |     /root/nltk_data...\n",
            "[nltk_data]    |   Unzipping corpora/twitter_samples.zip.\n",
            "[nltk_data]    | Downloading package omw to /root/nltk_data...\n",
            "[nltk_data]    |   Unzipping corpora/omw.zip.\n",
            "[nltk_data]    | Downloading package wordnet to /root/nltk_data...\n",
            "[nltk_data]    |   Unzipping corpora/wordnet.zip.\n",
            "[nltk_data]    | Downloading package wordnet_ic to /root/nltk_data...\n",
            "[nltk_data]    |   Unzipping corpora/wordnet_ic.zip.\n",
            "[nltk_data]    | Downloading package words to /root/nltk_data...\n",
            "[nltk_data]    |   Unzipping corpora/words.zip.\n",
            "[nltk_data]    | Downloading package maxent_ne_chunker to\n",
            "[nltk_data]    |     /root/nltk_data...\n",
            "[nltk_data]    |   Unzipping chunkers/maxent_ne_chunker.zip.\n",
            "[nltk_data]    | Downloading package punkt to /root/nltk_data...\n",
            "[nltk_data]    |   Unzipping tokenizers/punkt.zip.\n",
            "[nltk_data]    | Downloading package snowball_data to\n",
            "[nltk_data]    |     /root/nltk_data...\n",
            "[nltk_data]    | Downloading package averaged_perceptron_tagger to\n",
            "[nltk_data]    |     /root/nltk_data...\n",
            "[nltk_data]    |   Unzipping taggers/averaged_perceptron_tagger.zip.\n",
            "[nltk_data]    | \n",
            "[nltk_data]  Done downloading collection popular\n"
          ],
          "name": "stdout"
        },
        {
          "output_type": "execute_result",
          "data": {
            "text/plain": [
              "True"
            ]
          },
          "metadata": {
            "tags": []
          },
          "execution_count": 7
        }
      ]
    },
    {
      "metadata": {
        "id": "NIoZSP-E0cRD",
        "colab_type": "code",
        "colab": {}
      },
      "cell_type": "code",
      "source": [
        "from keras.preprocessing.text import Tokenizer\n",
        "from keras.preprocessing.sequence import pad_sequences\n",
        "import numpy as np\n",
        "from nltk.corpus import stopwords \n",
        "from nltk.tokenize import word_tokenize \n",
        "\n",
        "def preprocess_stopwords(texts):\n",
        "  \"\"\"Returns a lsit of texts with the stopwords removed\"\"\"\n",
        "  result = []\n",
        "  \n",
        "  #Load the set of stopwords\n",
        "  stop_words = set(stopwords.words('english'))\n",
        "  \n",
        "   #Split each sentence into words, retain only words in the sentence that are not in the stopwords list\n",
        "  for text in texts:\n",
        "    word_tokens = text.split()\n",
        "    filtered_text = [w for w in word_tokens if not w in stop_words]\n",
        "    result.append(' '.join(filtered_text))\n",
        " \n",
        "  return result\n",
        "\n",
        "def tokenize_texts(texts, labels, max_len, max_words, remove_stopwords=True):\n",
        "  \"\"\"Returns tokenized data according to given params\"\"\"\n",
        "  data = []\n",
        "  labels = np.asarray(labels)\n",
        "  \n",
        "  #Remove stop words if param is True\n",
        "  if remove_stopwords:\n",
        "    texts = preprocess_stopwords(texts)\n",
        "    \n",
        "  #Initialise Tokenizer with maxwords, fit the tokenizer to the texts and use the tokenizer to obtain sequences from texts\n",
        "  #Reference - https://faroit.github.io/keras-docs/2.0.2/preprocessing/text/#tokenizer\n",
        "  tokenizer = Tokenizer(num_words=max_words)\n",
        "  tokenizer.fit_on_texts(texts)\n",
        "  sequences = tokenizer.texts_to_sequences(texts)\n",
        "  \n",
        "  #Pad the sequences to obtain vectors of 'max_len'\n",
        "  #https://faroit.github.io/keras-docs/2.0.2/preprocessing/sequence/#pad_sequences\n",
        "  data = pad_sequences(sequences, maxlen=max_len)\n",
        "  \n",
        "  return data, labels, tokenizer"
      ],
      "execution_count": 0,
      "outputs": []
    },
    {
      "metadata": {
        "id": "7UzYbdPCuWI3",
        "colab_type": "text"
      },
      "cell_type": "markdown",
      "source": [
        "### Split the tokenized data into Train and Validation sets"
      ]
    },
    {
      "metadata": {
        "id": "MdbofqVo4M_X",
        "colab_type": "code",
        "colab": {}
      },
      "cell_type": "code",
      "source": [
        "import numpy as np\n",
        "\n",
        "def split_data(data, labels, train_size=20000, validation_size=5000):\n",
        "  \"\"\"Returns train and validation data and corresponding labels\"\"\"\n",
        "  x_train = []\n",
        "  y_train = []\n",
        "  x_validation = []\n",
        "  y_validation = []\n",
        "  \n",
        "  #Shuffle the data, since we started from data where samples are ordered all negative first, then all positive\n",
        "  #Make sure you shuffle the data and labels in the same order \n",
        "  indices = np.arange(data.shape[0])\n",
        "  np.random.shuffle(indices)\n",
        "  data = data[indices]\n",
        "  labels = labels[indices]\n",
        "  \n",
        "  #Split data and labels into train and validation\n",
        "  x_train = data[:train_size]\n",
        "  y_train = labels[:train_size]\n",
        "  x_validation = data[train_size: train_size + validation_size]\n",
        "  y_validation = labels[train_size: train_size + validation_size]\n",
        "  \n",
        "  return ((x_train, y_train), (x_validation, y_validation))"
      ],
      "execution_count": 0,
      "outputs": []
    },
    {
      "metadata": {
        "id": "646nmWTO6gvX",
        "colab_type": "text"
      },
      "cell_type": "markdown",
      "source": [
        "We will tokenize our text to have 20 words per review and restrict our tokenizer to top 10000 words across reviews. We will train our model on 20000 reviews, and validate on 5000 reviews. "
      ]
    },
    {
      "metadata": {
        "id": "npEB-9C_wgZ8",
        "colab_type": "code",
        "outputId": "9a064438-aa59-409c-c0f7-915dc8fc6e79",
        "colab": {
          "base_uri": "https://localhost:8080/",
          "height": 229
        }
      },
      "cell_type": "code",
      "source": [
        "data, labels, tokenizer = tokenize_texts(texts, labels, 20, 10000, remove_stopwords=True)\n",
        "print('Found %s unique tokens.' % len(tokenizer.word_index))\n",
        "print('Shape of data tensor:', data.shape)\n",
        "print('Shape of label tensor:', labels.shape)\n",
        "\n",
        "((x_train, y_train), (x_val, y_val)) = split_data(data, labels, train_size=20000, validation_size=5000)\n",
        "print('Shape of train data:', x_train.shape)\n",
        "print('Shape of train labels:', y_train.shape)\n",
        "print('Shape of validation data:', x_val.shape)\n",
        "print('Shape of validation labels:', y_val.shape)\n"
      ],
      "execution_count": 0,
      "outputs": [
        {
          "output_type": "error",
          "ename": "NameError",
          "evalue": "ignored",
          "traceback": [
            "\u001b[0;31m\u001b[0m",
            "\u001b[0;31mNameError\u001b[0mTraceback (most recent call last)",
            "\u001b[0;32m<ipython-input-12-8b293030c3b8>\u001b[0m in \u001b[0;36m<module>\u001b[0;34m()\u001b[0m\n\u001b[0;32m----> 1\u001b[0;31m \u001b[0mdata\u001b[0m\u001b[0;34m,\u001b[0m \u001b[0mlabels\u001b[0m\u001b[0;34m,\u001b[0m \u001b[0mtokenizer\u001b[0m \u001b[0;34m=\u001b[0m \u001b[0mtokenize_texts\u001b[0m\u001b[0;34m(\u001b[0m\u001b[0mtexts\u001b[0m\u001b[0;34m,\u001b[0m \u001b[0mlabels\u001b[0m\u001b[0;34m,\u001b[0m \u001b[0;36m20\u001b[0m\u001b[0;34m,\u001b[0m \u001b[0;36m10000\u001b[0m\u001b[0;34m,\u001b[0m \u001b[0mremove_stopwords\u001b[0m\u001b[0;34m=\u001b[0m\u001b[0mTrue\u001b[0m\u001b[0;34m)\u001b[0m\u001b[0;34m\u001b[0m\u001b[0m\n\u001b[0m\u001b[1;32m      2\u001b[0m \u001b[0;32mprint\u001b[0m\u001b[0;34m(\u001b[0m\u001b[0;34m'Found %s unique tokens.'\u001b[0m \u001b[0;34m%\u001b[0m \u001b[0mlen\u001b[0m\u001b[0;34m(\u001b[0m\u001b[0mtokenizer\u001b[0m\u001b[0;34m.\u001b[0m\u001b[0mword_index\u001b[0m\u001b[0;34m)\u001b[0m\u001b[0;34m)\u001b[0m\u001b[0;34m\u001b[0m\u001b[0m\n\u001b[1;32m      3\u001b[0m \u001b[0;32mprint\u001b[0m\u001b[0;34m(\u001b[0m\u001b[0;34m'Shape of data tensor:'\u001b[0m\u001b[0;34m,\u001b[0m \u001b[0mdata\u001b[0m\u001b[0;34m.\u001b[0m\u001b[0mshape\u001b[0m\u001b[0;34m)\u001b[0m\u001b[0;34m\u001b[0m\u001b[0m\n\u001b[1;32m      4\u001b[0m \u001b[0;32mprint\u001b[0m\u001b[0;34m(\u001b[0m\u001b[0;34m'Shape of label tensor:'\u001b[0m\u001b[0;34m,\u001b[0m \u001b[0mlabels\u001b[0m\u001b[0;34m.\u001b[0m\u001b[0mshape\u001b[0m\u001b[0;34m)\u001b[0m\u001b[0;34m\u001b[0m\u001b[0m\n\u001b[1;32m      5\u001b[0m \u001b[0;34m\u001b[0m\u001b[0m\n",
            "\u001b[0;31mNameError\u001b[0m: name 'tokenize_texts' is not defined"
          ]
        }
      ]
    },
    {
      "metadata": {
        "id": "LHG28J3qfKTt",
        "colab_type": "text"
      },
      "cell_type": "markdown",
      "source": [
        "Let's see what we just did: \n",
        "* We first split the sentences into tokens\n",
        "* Then we store these tokens into an index\n",
        "* Then we convert our sentences into a sequence of integers, where each integer is an id for the corresponding word in our index. \n",
        "\n",
        "Let's take a look at the result for an example::"
      ]
    },
    {
      "metadata": {
        "id": "zp60MI7Jee9C",
        "colab_type": "code",
        "outputId": "be5a38ba-1940-4aa0-b33c-e62f3b1a1e78",
        "colab": {
          "base_uri": "https://localhost:8080/",
          "height": 70
        }
      },
      "cell_type": "code",
      "source": [
        "print(texts[0])\n",
        "print(preprocess_stopwords([texts[0]]))"
      ],
      "execution_count": 0,
      "outputs": [
        {
          "output_type": "stream",
          "text": [
            "Last of the Johnny Weissmuller Tarzan films and a good thing too, as this is easily the worst of the 12 films he made over a period of 16 years. No mermaids are featured here either as a beautiful island woman tries to escape the clutches of her people, who worship a god and try to force her to be its bride. She finds Tarzan and Jane, who try to protect her. George Zucco is present as a potentially villainous High Priest but isn't used to his full advantage. Also on hand and worthy of mention is a hugely annoying guitar player/singer who goes into song every so often. Even the \"great\" Robert Florey can't aid this one.<br /><br />*1/2 (of four)\n",
            "['Last Johnny Weissmuller Tarzan films good thing too, easily worst 12 films made period 16 years. No mermaids featured either beautiful island woman tries escape clutches people, worship god try force bride. She finds Tarzan Jane, try protect her. George Zucco present potentially villainous High Priest used full advantage. Also hand worthy mention hugely annoying guitar player/singer goes song every often. Even \"great\" Robert Florey can\\'t aid one.<br /><br />*1/2 (of four)']\n"
          ],
          "name": "stdout"
        }
      ]
    },
    {
      "metadata": {
        "id": "i6AgS3sQyd9i",
        "colab_type": "code",
        "outputId": "7ae07ab1-88a8-4c2e-be76-4f107c2a9117",
        "colab": {
          "base_uri": "https://localhost:8080/",
          "height": 50
        }
      },
      "cell_type": "code",
      "source": [
        "tokens = tokenizer.texts_to_sequences([texts[0]])\n",
        "tokens = pad_sequences(tokens, maxlen=20)\n",
        "print(tokens[0])"
      ],
      "execution_count": 0,
      "outputs": [
        {
          "output_type": "stream",
          "text": [
            "[ 197 2954  553   94   85  334   12    3   25  610  110 4060    9    6\n",
            "    1    1  229  162  161  631]\n"
          ],
          "name": "stdout"
        }
      ]
    },
    {
      "metadata": {
        "id": "kRQw7F-qyxba",
        "colab_type": "code",
        "outputId": "4f1b785c-5837-4010-95d8-86e215df30b9",
        "colab": {
          "base_uri": "https://localhost:8080/",
          "height": 34
        }
      },
      "cell_type": "code",
      "source": [
        "print([tokenizer.index_word[token] for token in tokens[0] if token])"
      ],
      "execution_count": 0,
      "outputs": [
        {
          "output_type": "stream",
          "text": [
            "['goes', 'into', 'song', 'every', 'so', 'often', 'even', 'the', 'great', 'robert', \"can't\", 'aid', 'this', 'one', 'br', 'br', '1', '2', 'of', 'four']\n"
          ],
          "name": "stdout"
        }
      ]
    },
    {
      "metadata": {
        "id": "jqkLHZgv8oi5",
        "colab_type": "text"
      },
      "cell_type": "markdown",
      "source": [
        "## Word Embeddings (also called Word Vectors)\n",
        "\n",
        "Before we can train our fancy ML model, lets look at how we can take these sequences of integers and derive some representation that is more meaningful and conveys more information to our models. This is where word embeddings come in. \n",
        "\n",
        "Word vectors or embeddings are simply vectors of numbers that represent the meaning of a word in some context. Why do we need word vectors? Our original sequence of word indices do not capture information about a word’s meaning or context. \n",
        "\n",
        "This means that potential relationships, such as contextual closeness, are not captured across collections of words in our original sequence. For example, a one-hot encoding from this sequence cannot capture simple relationships, such as determining that the words “dog” and “cat” both refer to animals that are often discussed in the context of household pets.\n",
        "\n",
        "Word vectors represent words as multidimensional continuous floating point numbers where semantically similar words are mapped to proximate points in geometric space. \n",
        "\n",
        "In simpler terms, a word vector is a row of real valued numbers (as opposed to dummy numbers) where each point captures a dimension of the word’s meaning and where semantically similar words have similar vectors. \n",
        "\n",
        "This means that words such as wheel and engine should have similar word vectors to the word car (because of the similarity of their meanings), whereas the word banana should be quite distant. \n",
        "\n",
        "Put differently, words that are used in a similar context will be mapped to a proximate vector space (we will get to how these word vectors are created below). The beauty of representing words as vectors is that they lend themselves to mathematical operators. \n",
        "\n",
        "For example, we can add and subtract vectors — the canonical example here is showing that by using word vectors we can determine that:\n",
        "\n",
        "king — man + woman = queen\n",
        "\n",
        "In other words, we can subtract one meaning from the word vector for king (i.e. maleness), add another meaning (femaleness), and show that this new word vector (king — man + woman) maps most closely to the word vector for queen.\n",
        "\n",
        "The numbers in the word vector represent the word’s distributed weight across dimensions. In a simplified sense each dimension represents a meaning and the word’s numerical weight on that dimension captures the closeness of its association with and to that meaning. Thus, the semantics of the word are embedded across the dimensions of the vector.\n",
        "\n",
        "## Example for Word Embeddings\n",
        "\n",
        "Let's see this in action - We'll load a pre-trainied model for word vectors using `spacy` a popular NLP library - and visualize some word vectors using PCA. \n",
        "\n",
        "Start by downloading the `en` spacy model to get the pretrained vectors."
      ]
    },
    {
      "metadata": {
        "id": "iGEAucfowYqO",
        "colab_type": "code",
        "outputId": "3dc2d894-c05b-4ffa-afab-0c0603f203a4",
        "colab": {
          "base_uri": "https://localhost:8080/",
          "height": 235
        }
      },
      "cell_type": "code",
      "source": [
        "!python -m spacy download en"
      ],
      "execution_count": 0,
      "outputs": [
        {
          "output_type": "stream",
          "text": [
            "Collecting en_core_web_sm==2.0.0 from https://github.com/explosion/spacy-models/releases/download/en_core_web_sm-2.0.0/en_core_web_sm-2.0.0.tar.gz#egg=en_core_web_sm==2.0.0\n",
            "\u001b[?25l  Downloading https://github.com/explosion/spacy-models/releases/download/en_core_web_sm-2.0.0/en_core_web_sm-2.0.0.tar.gz (37.4MB)\n",
            "\u001b[K    100% |████████████████████████████████| 37.4MB 89.1MB/s \n",
            "\u001b[?25hInstalling collected packages: en-core-web-sm\n",
            "  Running setup.py install for en-core-web-sm ... \u001b[?25l-\b \b\\\b \b|\b \bdone\n",
            "\u001b[?25hSuccessfully installed en-core-web-sm-2.0.0\n",
            "\n",
            "\u001b[93m    Linking successful\u001b[0m\n",
            "    /usr/local/lib/python2.7/dist-packages/en_core_web_sm -->\n",
            "    /usr/local/lib/python2.7/dist-packages/spacy/data/en\n",
            "\n",
            "    You can now load the model via spacy.load('en')\n",
            "\n"
          ],
          "name": "stdout"
        }
      ]
    },
    {
      "metadata": {
        "id": "ORfgxsVBdfxT",
        "colab_type": "text"
      },
      "cell_type": "markdown",
      "source": [
        "Let's try and use Spacy's pretrained word vectors to visualize a set of words transformed into word embeddings and reduced to 2 dimensions using PCA."
      ]
    },
    {
      "metadata": {
        "id": "rwOrjor41K3X",
        "colab_type": "code",
        "colab": {}
      },
      "cell_type": "code",
      "source": [
        "import numpy as np\n",
        "import spacy\n",
        "from sklearn.decomposition import PCA\n",
        "nlp = spacy.load(\"en\")"
      ],
      "execution_count": 0,
      "outputs": []
    },
    {
      "metadata": {
        "id": "4qRvZ5SKwFYL",
        "colab_type": "code",
        "colab": {}
      },
      "cell_type": "code",
      "source": [
        "words = u\"man king woman queen palace royal house\"\n",
        "words_tokens = nlp(words)\n",
        "words_vectors = np.vstack([word.vector for word in words_tokens if word.has_vector])\n",
        "pca = PCA(n_components=2)\n",
        "word_vectors_transformed = pca.fit_transform(words_vectors)"
      ],
      "execution_count": 0,
      "outputs": []
    },
    {
      "metadata": {
        "id": "1xBzWYLMxagw",
        "colab_type": "code",
        "colab": {}
      },
      "cell_type": "code",
      "source": [
        "x = np.array([item[0] for item in word_vectors_transformed])\n",
        "y = np.array([item[1] for item in word_vectors_transformed])"
      ],
      "execution_count": 0,
      "outputs": []
    },
    {
      "metadata": {
        "id": "BQXo1qHwoxLN",
        "colab_type": "text"
      },
      "cell_type": "markdown",
      "source": [
        "#### So how does an embedding look like? \n",
        "\n",
        "From the above example, the embedding for the word `man` is: \n"
      ]
    },
    {
      "metadata": {
        "id": "-yKSlH1-pATq",
        "colab_type": "code",
        "outputId": "cb85071e-941d-41df-8146-f91306e61154",
        "colab": {
          "base_uri": "https://localhost:8080/",
          "height": 235
        }
      },
      "cell_type": "code",
      "source": [
        "words_tokens[0],words_vectors[0:10]"
      ],
      "execution_count": 0,
      "outputs": [
        {
          "output_type": "execute_result",
          "data": {
            "text/plain": [
              "(man, array([[ 5.6654114e-01,  2.1298788e+00, -7.5750500e-01, ...,\n",
              "         -4.4764426e-01,  1.5666524e-01, -2.8439707e-01],\n",
              "        [-3.8338602e-03, -1.7044394e+00,  1.1055291e+00, ...,\n",
              "         -5.2565366e-02,  2.1175520e-01, -3.5021394e-02],\n",
              "        [ 1.2737572e-02, -2.4252005e+00,  8.0763125e-01, ...,\n",
              "          7.3892012e-02, -9.0038776e-04, -2.3811609e-02],\n",
              "        ...,\n",
              "        [ 5.9697354e-01,  2.0848435e-01, -2.4370432e+00, ...,\n",
              "         -7.2301191e-01, -3.9200917e-01,  3.9495468e-01],\n",
              "        [ 1.5074633e-01,  8.2599211e-01,  6.4324105e-01, ...,\n",
              "         -5.8896923e-01,  4.8564866e-02,  1.3803323e-01],\n",
              "        [ 2.3954535e+00,  2.3134739e+00,  3.0796623e+00, ...,\n",
              "         -3.8401619e-01, -7.3281050e-01,  3.0168864e-01]], dtype=float32))"
            ]
          },
          "metadata": {
            "tags": []
          },
          "execution_count": 5
        }
      ]
    },
    {
      "metadata": {
        "id": "j7NSeW-aZxCF",
        "colab_type": "code",
        "outputId": "d223ad35-ff4c-4138-c6c3-ed496a00b7a4",
        "colab": {
          "base_uri": "https://localhost:8080/",
          "height": 383
        }
      },
      "cell_type": "code",
      "source": [
        "import pandas as pd\n",
        "df = pd.DataFrame(\n",
        "    {'x': x,\n",
        "     'y': y,\n",
        "     'txt': words.split()\n",
        "    })\n",
        "\n",
        "# plot the dataset, referencing dataframe column names\n",
        "import altair as alt\n",
        "base = alt.Chart(df).encode(\n",
        "    x='x', \n",
        "    y='y'\n",
        ")\n",
        "\n",
        "base.mark_circle(size=100) + base.mark_text(dx=15).encode(text='txt').interactive()"
      ],
      "execution_count": 0,
      "outputs": [
        {
          "output_type": "execute_result",
          "data": {
            "text/plain": [
              "LayerChart({\n",
              "  layer: [Chart({\n",
              "    data:       txt          x          y\n",
              "    0     man  14.015564   4.079728\n",
              "    1    king   3.999183   3.894140\n",
              "    2   woman   8.001021   0.507969\n",
              "    3   queen  -6.139023  -6.126812\n",
              "    4  palace   2.822722  -7.135913\n",
              "    5   royal  -9.862520 -11.066113\n",
              "    6   house -12.836949  15.846996,\n",
              "    encoding: EncodingWithFacet({\n",
              "      x: X({\n",
              "        shorthand: 'x'\n",
              "      }),\n",
              "      y: Y({\n",
              "        shorthand: 'y'\n",
              "      })\n",
              "    }),\n",
              "    mark: MarkDef({\n",
              "      size: 100,\n",
              "      type: 'circle'\n",
              "    })\n",
              "  }), Chart({\n",
              "    data:       txt          x          y\n",
              "    0     man  14.015564   4.079728\n",
              "    1    king   3.999183   3.894140\n",
              "    2   woman   8.001021   0.507969\n",
              "    3   queen  -6.139023  -6.126812\n",
              "    4  palace   2.822722  -7.135913\n",
              "    5   royal  -9.862520 -11.066113\n",
              "    6   house -12.836949  15.846996,\n",
              "    encoding: EncodingWithFacet({\n",
              "      text: Text({\n",
              "        shorthand: 'txt'\n",
              "      }),\n",
              "      x: X({\n",
              "        shorthand: 'x'\n",
              "      }),\n",
              "      y: Y({\n",
              "        shorthand: 'y'\n",
              "      })\n",
              "    }),\n",
              "    mark: MarkDef({\n",
              "      dx: 15,\n",
              "      type: 'text'\n",
              "    }),\n",
              "    selection: SelectionMapping({\n",
              "      selector001: SelectionDef({\n",
              "        bind: 'scales',\n",
              "        encodings: ['x', 'y'],\n",
              "        type: 'interval'\n",
              "      })\n",
              "    })\n",
              "  })]\n",
              "})"
            ],
            "text/html": [
              "\n",
              "<!DOCTYPE html>\n",
              "<html>\n",
              "<head>\n",
              "  <style>\n",
              "    .vega-actions a {\n",
              "        margin-right: 12px;\n",
              "        color: #757575;\n",
              "        font-weight: normal;\n",
              "        font-size: 13px;\n",
              "    }\n",
              "    .error {\n",
              "        color: red;\n",
              "    }\n",
              "  </style>\n",
              "\n",
              "<script src=\"https://cdn.jsdelivr.net/npm//vega@3.3.1\"></script>\n",
              "<script src=\"https://cdn.jsdelivr.net/npm//vega-lite@2.6.0\"></script>\n",
              "<script src=\"https://cdn.jsdelivr.net/npm//vega-embed@3.14\"></script>\n",
              "\n",
              "</head>\n",
              "<body>\n",
              "  <div id=\"vis\"></div>\n",
              "  <script type=\"text/javascript\">\n",
              "    var spec = {\"layer\": [{\"mark\": {\"type\": \"circle\", \"size\": 100}, \"data\": {\"name\": \"data-4720a05e582e4750c7de87ecc05d77b6\"}, \"encoding\": {\"y\": {\"field\": \"y\", \"type\": \"quantitative\"}, \"x\": {\"field\": \"x\", \"type\": \"quantitative\"}}}, {\"mark\": {\"type\": \"text\", \"dx\": 15}, \"selection\": {\"selector001\": {\"bind\": \"scales\", \"type\": \"interval\", \"encodings\": [\"x\", \"y\"]}}, \"data\": {\"name\": \"data-4720a05e582e4750c7de87ecc05d77b6\"}, \"encoding\": {\"y\": {\"field\": \"y\", \"type\": \"quantitative\"}, \"text\": {\"field\": \"txt\", \"type\": \"nominal\"}, \"x\": {\"field\": \"x\", \"type\": \"quantitative\"}}}], \"datasets\": {\"data-4720a05e582e4750c7de87ecc05d77b6\": [{\"y\": 4.079727649688721, \"x\": 14.01556396484375, \"txt\": \"man\"}, {\"y\": 3.8941402435302734, \"x\": 3.999183416366577, \"txt\": \"king\"}, {\"y\": 0.5079692602157593, \"x\": 8.001021385192871, \"txt\": \"woman\"}, {\"y\": -6.126811981201172, \"x\": -6.139023303985596, \"txt\": \"queen\"}, {\"y\": -7.135913372039795, \"x\": 2.8227221965789795, \"txt\": \"palace\"}, {\"y\": -11.066112518310547, \"x\": -9.862520217895508, \"txt\": \"royal\"}, {\"y\": 15.846996307373047, \"x\": -12.836949348449707, \"txt\": \"house\"}]}, \"config\": {\"view\": {\"width\": 400, \"height\": 300}}, \"$schema\": \"https://vega.github.io/schema/vega-lite/v2.6.0.json\"};\n",
              "    var embed_opt = {\"mode\": \"vega-lite\"};\n",
              "\n",
              "    function showError(el, error){\n",
              "        el.innerHTML = ('<div class=\"error\">'\n",
              "                        + '<p>JavaScript Error: ' + error.message + '</p>'\n",
              "                        + \"<p>This usually means there's a typo in your chart specification. \"\n",
              "                        + \"See the javascript console for the full traceback.</p>\"\n",
              "                        + '</div>');\n",
              "        throw error;\n",
              "    }\n",
              "    const el = document.getElementById('vis');\n",
              "    vegaEmbed(\"#vis\", spec, embed_opt)\n",
              "      .catch(error => showError(el, error));\n",
              "  </script>\n",
              "</body>\n",
              "</html>\n"
            ]
          },
          "metadata": {
            "tags": []
          },
          "execution_count": 6
        }
      ]
    },
    {
      "metadata": {
        "id": "2DfLfq9gmrXj",
        "colab_type": "text"
      },
      "cell_type": "markdown",
      "source": [
        "As you can see the words `man` and `woman` are along the same direction and that of `king` and queen are along the same direction as that of `man` and `woman` so the vector direction from `man` -> `woman` probably denotes the semantic meaning of gender. \n",
        "\n",
        "Disclaimer:\n",
        "The PCA visualization is probably not the best way to represent the actual embeddings, but it is illustrative of the broad concept, and hence we have it here. Do not attempt to visualize your actual embeddings using this technique and hope to get some meaningful outcomes. You most probably will not.\n",
        "\n",
        "## Training a model for the IMDB Dataset\n",
        "\n",
        "Lets train a simple neural network for our IMDB Dataset and use an embedding layer that first transforms our word sequences into word vectors.\n",
        "\n",
        "There are two ways to obtain word embeddings:\n",
        "\n",
        "* Learn word embeddings jointly with the main task you care about (e.g. document classification or sentiment prediction). In this setup, you would start with random word vectors, then learn your word vectors in the same way that you learn the weights of a neural network.\n",
        "\n",
        "* Load into your model word embeddings that were pre-computed using a different machine learning task than the one you are trying to solve. These are called \"pre-trained word embeddings\".\n",
        "\n",
        "We'll first go with our first approach by learning the embeddings using the `Embedding` layer from `keras`.\n",
        "\n",
        "\n",
        "The `Embedding` layer is best understood as a dictionary mapping integer indices (which stand for specific words) to dense vectors. It takes \n",
        "as input integers, it looks up these integers into an internal dictionary, and it returns the associated vectors. It's effectively a dictionary lookup.\n",
        "\n",
        "The Embedding layer takes as input a 2D tensor of integers, of shape (samples, sequence_length), where each entry is a sequence of integers. It can embed sequences of variable lengths, so for instance we could feed into our embedding layer above batches that could have shapes (32, 10) (batch of 32 sequences of length 10) or (64, 15) (batch of 64 sequences of length 15). All sequences in a batch must have the same length, though (since we need to pack them into a single tensor), so sequences that are shorter than others should be padded with zeros, and sequences that are longer should be truncated.\n",
        "\n",
        "This layer returns a 3D floating point tensor, of shape (samples, sequence_length, embedding_dimensionality). Such a 3D tensor can then be processed by a RNN layer or a 1D convolution layer.\n",
        "\n",
        "When you instantiate an Embedding layer, its weights (its internal dictionary of token vectors) are initially random, just like with any other layer. During training, these word vectors will be gradually adjusted via backpropagation, structuring the space into something that the downstream model can exploit. Once fully trained, your embedding space will show a lot of structure -- a kind of structure specialized for the specific problem you were training your model for."
      ]
    },
    {
      "metadata": {
        "id": "rTy2JNgdwVVF",
        "colab_type": "text"
      },
      "cell_type": "markdown",
      "source": [
        "## Recap\n",
        "\n",
        "We generated our training set using the following block of code:"
      ]
    },
    {
      "metadata": {
        "id": "sEA4Da2WwZym",
        "colab_type": "code",
        "outputId": "9f433f80-067d-47e1-d7ff-296c6fb45562",
        "colab": {
          "base_uri": "https://localhost:8080/",
          "height": 50
        }
      },
      "cell_type": "code",
      "source": [
        "data, labels, tokenizer = tokenize_texts(texts, labels, 20, 10000, remove_stopwords=True)\n",
        "((x_train, y_train), (x_val, y_val)) = split_data(data, labels, train_size=20000, validation_size=5000)\n",
        "print('Shape of train data:', x_train.shape)\n",
        "print('Shape of train labels:', y_train.shape)"
      ],
      "execution_count": 0,
      "outputs": [
        {
          "output_type": "stream",
          "text": [
            "('Shape of train data:', (20000, 20))\n",
            "('Shape of train labels:', (20000,))\n"
          ],
          "name": "stdout"
        }
      ]
    },
    {
      "metadata": {
        "id": "ZFAiAcLJqvxz",
        "colab_type": "text"
      },
      "cell_type": "markdown",
      "source": [
        "## Build and train a Sequential model with the following specs:\n",
        "\n",
        "* Embedding Layer with maximum number of tokes to be 10000 and embedding dimensionality as 8. Let the input_length be the maximum length of each review i.e 20 as seen previously.\n",
        "* Flatten the 3D embedding output to 2D.\n",
        "* Dense Layer which is the classifier.\n",
        "* Compile the model with a 'rmsprop' optimizer. Can you guess what loss we need to use?\n",
        "* Let accuracy be one of the metrics we are interested in.\n",
        "* Run the model on the above training data. "
      ]
    },
    {
      "metadata": {
        "id": "tdEk_THwphXA",
        "colab_type": "code",
        "outputId": "8ef384b8-b1ef-4389-d95f-a5bab5a6a782",
        "colab": {
          "base_uri": "https://localhost:8080/",
          "height": 235
        }
      },
      "cell_type": "code",
      "source": [
        "from keras.models import Sequential\n",
        "from keras.layers import Flatten, Dense\n",
        "from keras.layers import Embedding\n",
        "\n",
        "model = Sequential()\n",
        "\n",
        "# Add an Embedding Layer with maximum number of tokens to be 10000 and embedding dimensionality as 8. \n",
        "# Let the input_length be the maximum length of each review i.e 20 as seen previously.\n",
        "# Refernece - https://keras.io/layers/embeddings/\n",
        "model.add(Embedding(10000, 8, input_length=20))\n",
        "\n",
        "# After the Embedding layer, our activations have shape `(samples, maxlen, 8)`.\n",
        "# We flatten the 3D tensor of embeddings into a 2D tensor of shape `(samples, maxlen * 8)`\n",
        "# Reference - https://keras.io/layers/core/#flatten\n",
        "model.add(Flatten())\n",
        "\n",
        "# We add a Dense classifier on top with a sigmoid activation\n",
        "# Reference - https://keras.io/layers/core/#dense\n",
        "model.add(Dense(1, activation='sigmoid'))\n",
        "\n",
        "# Compile the model with a 'rmsprop' optimizer. Can you guess what loss we need to use?\n",
        "# Let accuracy be one of the metrics we are interested in.\n",
        "# Reference - https://keras.io/models/model/#compile\n",
        "model.compile(optimizer='rmsprop', loss='binary_crossentropy', metrics=['accuracy'])\n",
        "\n",
        "# Print the model summary\n",
        "model.summary()"
      ],
      "execution_count": 0,
      "outputs": [
        {
          "output_type": "stream",
          "text": [
            "_________________________________________________________________\n",
            "Layer (type)                 Output Shape              Param #   \n",
            "=================================================================\n",
            "embedding_1 (Embedding)      (None, 20, 8)             80000     \n",
            "_________________________________________________________________\n",
            "flatten_1 (Flatten)          (None, 160)               0         \n",
            "_________________________________________________________________\n",
            "dense_1 (Dense)              (None, 1)                 161       \n",
            "=================================================================\n",
            "Total params: 80,161\n",
            "Trainable params: 80,161\n",
            "Non-trainable params: 0\n",
            "_________________________________________________________________\n"
          ],
          "name": "stdout"
        }
      ]
    },
    {
      "metadata": {
        "id": "eIvimix_7yNH",
        "colab_type": "code",
        "outputId": "f9b79246-9f30-4199-874f-906812a38d0b",
        "colab": {
          "base_uri": "https://localhost:8080/",
          "height": 370
        }
      },
      "cell_type": "code",
      "source": [
        "# Run the model on the above training data for 10 epochs and batch size of 32\n",
        "# Pass the validation data to evaluate the model\n",
        "# Reference- https://keras.io/models/model/#fit\n",
        "history = model.fit(x_train, y_train, epochs=10, batch_size=32, validation_data=(x_val, y_val))"
      ],
      "execution_count": 0,
      "outputs": [
        {
          "output_type": "stream",
          "text": [
            "Train on 20000 samples, validate on 5000 samples\n",
            "Epoch 1/10\n",
            "20000/20000 [==============================] - 2s 116us/step - loss: 0.6528 - acc: 0.6593 - val_loss: 0.5687 - val_acc: 0.7546\n",
            "Epoch 2/10\n",
            "20000/20000 [==============================] - 1s 66us/step - loss: 0.4753 - acc: 0.7985 - val_loss: 0.4567 - val_acc: 0.7814\n",
            "Epoch 3/10\n",
            "20000/20000 [==============================] - 1s 66us/step - loss: 0.3938 - acc: 0.8282 - val_loss: 0.4342 - val_acc: 0.7894\n",
            "Epoch 4/10\n",
            "20000/20000 [==============================] - 1s 68us/step - loss: 0.3546 - acc: 0.8468 - val_loss: 0.4316 - val_acc: 0.7932\n",
            "Epoch 5/10\n",
            "20000/20000 [==============================] - 1s 67us/step - loss: 0.3272 - acc: 0.8610 - val_loss: 0.4348 - val_acc: 0.7940\n",
            "Epoch 6/10\n",
            "20000/20000 [==============================] - 2s 80us/step - loss: 0.3034 - acc: 0.8731 - val_loss: 0.4409 - val_acc: 0.7894\n",
            "Epoch 7/10\n",
            "20000/20000 [==============================] - 2s 81us/step - loss: 0.2811 - acc: 0.8851 - val_loss: 0.4487 - val_acc: 0.7922\n",
            "Epoch 8/10\n",
            "20000/20000 [==============================] - 2s 81us/step - loss: 0.2607 - acc: 0.8940 - val_loss: 0.4562 - val_acc: 0.7894\n",
            "Epoch 9/10\n",
            "20000/20000 [==============================] - 2s 82us/step - loss: 0.2403 - acc: 0.9052 - val_loss: 0.4655 - val_acc: 0.7906\n",
            "Epoch 10/10\n",
            "20000/20000 [==============================] - 2s 81us/step - loss: 0.2207 - acc: 0.9143 - val_loss: 0.4769 - val_acc: 0.7868\n"
          ],
          "name": "stdout"
        }
      ]
    },
    {
      "metadata": {
        "id": "rItwEjljto-A",
        "colab_type": "text"
      },
      "cell_type": "markdown",
      "source": [
        "The resulting model accuracy is rather low. Let's see if we can improve this by tweaking a few parameters in our model. We'll first increase the number of words we consider.\n"
      ]
    },
    {
      "metadata": {
        "id": "qDYgaMDl0bDh",
        "colab_type": "code",
        "colab": {}
      },
      "cell_type": "code",
      "source": [
        "#Load the dataset again\n",
        "#Tokenize the data, this time passing max_len as 200\n",
        "#Split the data into train and validation\n",
        "texts, labels = load_imdb('./')  \n",
        "data, labels, tokenizer = tokenize_texts(texts, labels, 200, 10000, remove_stopwords=True)\n",
        "((x_train, y_train), (x_val, y_val)) = split_data(data, labels, train_size=20000, validation_size=5000)"
      ],
      "execution_count": 0,
      "outputs": []
    },
    {
      "metadata": {
        "id": "6NDWfdvRtwmU",
        "colab_type": "code",
        "outputId": "4748096d-6484-490b-8484-4003ea42d84c",
        "colab": {
          "base_uri": "https://localhost:8080/",
          "height": 588
        }
      },
      "cell_type": "code",
      "source": [
        "#Train a similar model as the previous one\n",
        "from keras.models import Sequential\n",
        "from keras.layers import Flatten, Dense\n",
        "from keras.layers import Embedding\n",
        "\n",
        "model = Sequential()\n",
        "model.add(Embedding(10000, 8, input_length=200))\n",
        "model.add(Flatten())\n",
        "model.add(Dense(1, activation='sigmoid'))\n",
        "model.compile(optimizer='rmsprop', loss='binary_crossentropy', metrics=['accuracy'])\n",
        "model.summary()\n",
        "history = model.fit(x_train, y_train, epochs=10, batch_size=32, validation_data=(x_val, y_val))"
      ],
      "execution_count": 0,
      "outputs": [
        {
          "output_type": "stream",
          "text": [
            "_________________________________________________________________\n",
            "Layer (type)                 Output Shape              Param #   \n",
            "=================================================================\n",
            "embedding_4 (Embedding)      (None, 200, 8)            80000     \n",
            "_________________________________________________________________\n",
            "flatten_4 (Flatten)          (None, 1600)              0         \n",
            "_________________________________________________________________\n",
            "dense_4 (Dense)              (None, 1)                 1601      \n",
            "=================================================================\n",
            "Total params: 81,601\n",
            "Trainable params: 81,601\n",
            "Non-trainable params: 0\n",
            "_________________________________________________________________\n",
            "Train on 20000 samples, validate on 5000 samples\n",
            "Epoch 1/10\n",
            "20000/20000 [==============================] - 2s 102us/step - loss: 0.5531 - acc: 0.7420 - val_loss: 0.3502 - val_acc: 0.8646\n",
            "Epoch 2/10\n",
            "20000/20000 [==============================] - 2s 79us/step - loss: 0.2713 - acc: 0.8958 - val_loss: 0.2809 - val_acc: 0.8880\n",
            "Epoch 3/10\n",
            "20000/20000 [==============================] - 2s 77us/step - loss: 0.2102 - acc: 0.9186 - val_loss: 0.2718 - val_acc: 0.8900\n",
            "Epoch 4/10\n",
            "20000/20000 [==============================] - 2s 76us/step - loss: 0.1810 - acc: 0.9314 - val_loss: 0.2821 - val_acc: 0.8866\n",
            "Epoch 5/10\n",
            "20000/20000 [==============================] - 2s 77us/step - loss: 0.1608 - acc: 0.9414 - val_loss: 0.2875 - val_acc: 0.8886\n",
            "Epoch 6/10\n",
            "20000/20000 [==============================] - 2s 77us/step - loss: 0.1447 - acc: 0.9462 - val_loss: 0.2894 - val_acc: 0.8908\n",
            "Epoch 7/10\n",
            "20000/20000 [==============================] - 2s 77us/step - loss: 0.1308 - acc: 0.9523 - val_loss: 0.3029 - val_acc: 0.8862\n",
            "Epoch 8/10\n",
            "20000/20000 [==============================] - 2s 77us/step - loss: 0.1176 - acc: 0.9588 - val_loss: 0.3090 - val_acc: 0.8896\n",
            "Epoch 9/10\n",
            "20000/20000 [==============================] - 2s 77us/step - loss: 0.1052 - acc: 0.9630 - val_loss: 0.3206 - val_acc: 0.8886\n",
            "Epoch 10/10\n",
            "20000/20000 [==============================] - 2s 78us/step - loss: 0.0935 - acc: 0.9681 - val_loss: 0.3310 - val_acc: 0.8864\n"
          ],
          "name": "stdout"
        }
      ]
    },
    {
      "metadata": {
        "id": "6tG9HrvO0vp0",
        "colab_type": "text"
      },
      "cell_type": "markdown",
      "source": [
        "With a higher number of words considered per review the validation accuracy can increase up to 88%."
      ]
    },
    {
      "metadata": {
        "id": "pmJ3cOCH5ziW",
        "colab_type": "text"
      },
      "cell_type": "markdown",
      "source": [
        "## Using embeddings: An illustration\n",
        "\n",
        "Let's try and use embeddigns to make our model better. \n",
        "\n",
        "Because pre-trained word embeddings are meant to be particularly useful on problems where little training data is available (otherwise, task-specific embeddings are likely to outperform them), we will add the following twist: we restrict the training data to its first 200 samples"
      ]
    },
    {
      "metadata": {
        "id": "ae5hTPLt51lG",
        "colab_type": "code",
        "outputId": "75c2e57d-fa99-47f0-9e57-063f7005d586",
        "colab": {
          "base_uri": "https://localhost:8080/",
          "height": 34
        }
      },
      "cell_type": "code",
      "source": [
        "#Load the dataset again\n",
        "#Tokenize the data, passing max_len as 200\n",
        "#Split the data into train (size = 200)and validation (size=10000)\n",
        "texts, labels = load_imdb('./')  \n",
        "data, labels, tokenizer = tokenize_texts(texts, labels, 200, 10000, remove_stopwords=True)\n",
        "((x_train, y_train), (x_val, y_val)) = split_data(data, labels, train_size=200, validation_size=10000)\n",
        "\n",
        "#Output the shape of the new training data and labels\n",
        "x_train.shape, x_val.shape"
      ],
      "execution_count": 0,
      "outputs": [
        {
          "output_type": "execute_result",
          "data": {
            "text/plain": [
              "((200, 200), (10000, 200))"
            ]
          },
          "metadata": {
            "tags": []
          },
          "execution_count": 42
        }
      ]
    },
    {
      "metadata": {
        "id": "CnJKOkgj4M_x",
        "colab_type": "text"
      },
      "cell_type": "markdown",
      "source": [
        "\n",
        "Now let's build an embedding matrix that we will be able to load into an `Embedding` layer. It must be a matrix of shape `(max_words, embedding_dim)`, where each entry `i` contains the `embedding_dim`-dimensional vector for the word of index `i` in our reference word index \n",
        "(built during tokenization). Note that the index `0` is not supposed to stand for any word or token -- it's a placeholder.\n",
        "\n",
        "We'll use spacy's word vectors to create our embedding layer. Lets start by getting the words from our tokenizer, and then transform them into their embeddings. While we use Spacy embeddings - you can instead use GloVe or Word2Vec as well. We chose spacy due to its smaller size for download and the purpose of illustration - not to get the best possible model."
      ]
    },
    {
      "metadata": {
        "id": "g0fWabGQ0taP",
        "colab_type": "code",
        "colab": {}
      },
      "cell_type": "code",
      "source": [
        "#Obtain the tokenizer word index\n",
        "#Use the word index to retrieve all 10000 words\n",
        "word_index = tokenizer.word_index\n",
        "all_words = [word.decode('utf-8') for word, i in word_index.items()]"
      ],
      "execution_count": 0,
      "outputs": []
    },
    {
      "metadata": {
        "id": "FCQwaf2XL6dl",
        "colab_type": "code",
        "outputId": "c7c8f82c-bbb0-4028-ff84-5c77eef83d08",
        "colab": {
          "base_uri": "https://localhost:8080/",
          "height": 171
        }
      },
      "cell_type": "code",
      "source": [
        "!python -m spacy download en"
      ],
      "execution_count": 0,
      "outputs": [
        {
          "output_type": "stream",
          "text": [
            "Requirement already satisfied: en_core_web_sm==2.0.0 from https://github.com/explosion/spacy-models/releases/download/en_core_web_sm-2.0.0/en_core_web_sm-2.0.0.tar.gz#egg=en_core_web_sm==2.0.0 in /usr/local/lib/python2.7/dist-packages (2.0.0)\n",
            "\n",
            "\u001b[93m    Linking successful\u001b[0m\n",
            "    /usr/local/lib/python2.7/dist-packages/en_core_web_sm -->\n",
            "    /usr/local/lib/python2.7/dist-packages/spacy/data/en\n",
            "\n",
            "    You can now load the model via spacy.load('en')\n",
            "\n"
          ],
          "name": "stdout"
        }
      ]
    },
    {
      "metadata": {
        "id": "NAWs0Lnc0fiV",
        "colab_type": "code",
        "colab": {}
      },
      "cell_type": "code",
      "source": [
        "import spacy\n",
        "nlp = spacy.load(\"en\")\n",
        "\n",
        "#Obtain word embedding using Spacy\n",
        "word_vectors = nlp(u' '.join(all_words))"
      ],
      "execution_count": 0,
      "outputs": []
    },
    {
      "metadata": {
        "id": "I7WibT3s7rSc",
        "colab_type": "code",
        "outputId": "c7f0a0ea-54b9-4059-bafb-649022c5db71",
        "colab": {
          "base_uri": "https://localhost:8080/",
          "height": 34
        }
      },
      "cell_type": "code",
      "source": [
        "#Obtain the embedding_dim\n",
        "embedding_dim = word_vectors[0].vector.shape[0]\n",
        "print(embedding_dim)"
      ],
      "execution_count": 0,
      "outputs": [
        {
          "output_type": "stream",
          "text": [
            "384\n"
          ],
          "name": "stdout"
        }
      ]
    },
    {
      "metadata": {
        "id": "DyG_Q1v37lEs",
        "colab_type": "text"
      },
      "cell_type": "markdown",
      "source": [
        "Let's construct our embedding matrix like so: "
      ]
    },
    {
      "metadata": {
        "id": "K1AAiH8o4M_1",
        "colab_type": "code",
        "colab": {}
      },
      "cell_type": "code",
      "source": [
        "max_words = 10000\n",
        "embedding_dim = word_vectors[0].vector.shape[0]\n",
        "embedding_matrix = np.zeros((max_words, embedding_dim))\n",
        "for i, word in enumerate(word_vectors):\n",
        "    embedding_vector = word.vector if word.has_vector else None\n",
        "    if i < max_words:\n",
        "        if embedding_vector is not None:\n",
        "            # Words not found in embedding index will be all-zeros.\n",
        "            embedding_matrix[i] = embedding_vector"
      ],
      "execution_count": 0,
      "outputs": []
    },
    {
      "metadata": {
        "id": "_DgUOUM61j4a",
        "colab_type": "code",
        "outputId": "07c1dc29-2bcf-441d-e7b6-1f1cb4712339",
        "colab": {
          "base_uri": "https://localhost:8080/",
          "height": 34
        }
      },
      "cell_type": "code",
      "source": [
        "embedding_matrix.shape"
      ],
      "execution_count": 0,
      "outputs": [
        {
          "output_type": "execute_result",
          "data": {
            "text/plain": [
              "(10000, 384)"
            ]
          },
          "metadata": {
            "tags": []
          },
          "execution_count": 48
        }
      ]
    },
    {
      "metadata": {
        "id": "btrbZIgQ4M_-",
        "colab_type": "text"
      },
      "cell_type": "markdown",
      "source": [
        "### Define a model\n",
        "\n",
        "We will be using the same model architecture as before  with an additional Dense layer using `relu` activation:"
      ]
    },
    {
      "metadata": {
        "id": "_FjQxClv4NAA",
        "colab_type": "code",
        "outputId": "161e1c37-fcfd-41d0-c202-2c470dc2726c",
        "colab": {
          "base_uri": "https://localhost:8080/",
          "height": 269
        }
      },
      "cell_type": "code",
      "source": [
        "#Define a similar model as the previous one, with an additional Dense Layer using relu activation\n",
        "from keras.models import Sequential\n",
        "from keras.layers import Flatten, Dense\n",
        "from keras.layers import Embedding\n",
        "\n",
        "model = Sequential()\n",
        "model.add(Embedding(max_words, embedding_dim, input_length=200))\n",
        "model.add(Flatten())\n",
        "model.add(Dense(32, activation='relu'))\n",
        "model.add(Dense(1, activation='sigmoid'))\n",
        "model.summary()"
      ],
      "execution_count": 0,
      "outputs": [
        {
          "output_type": "stream",
          "text": [
            "_________________________________________________________________\n",
            "Layer (type)                 Output Shape              Param #   \n",
            "=================================================================\n",
            "embedding_6 (Embedding)      (None, 200, 384)          3840000   \n",
            "_________________________________________________________________\n",
            "flatten_6 (Flatten)          (None, 76800)             0         \n",
            "_________________________________________________________________\n",
            "dense_7 (Dense)              (None, 32)                2457632   \n",
            "_________________________________________________________________\n",
            "dense_8 (Dense)              (None, 1)                 33        \n",
            "=================================================================\n",
            "Total params: 6,297,665\n",
            "Trainable params: 6,297,665\n",
            "Non-trainable params: 0\n",
            "_________________________________________________________________\n"
          ],
          "name": "stdout"
        }
      ]
    },
    {
      "metadata": {
        "id": "6gbJoH5U4NAC",
        "colab_type": "text"
      },
      "cell_type": "markdown",
      "source": [
        "### Load the embeddings in the model\n",
        "\n",
        "\n",
        "The `Embedding` layer has a single weight matrix: a 2D float matrix where each entry `i` is the word vector meant to be associated with \n",
        "index `i`. Simple enough. Let's just load the embedding matrix we prepared into our `Embedding` layer, the first layer in our model:"
      ]
    },
    {
      "metadata": {
        "id": "p-4GdS-H4NAD",
        "colab_type": "code",
        "colab": {}
      },
      "cell_type": "code",
      "source": [
        "model.layers[0].set_weights([embedding_matrix])\n",
        "model.layers[0].trainable = False"
      ],
      "execution_count": 0,
      "outputs": []
    },
    {
      "metadata": {
        "id": "DTaUSGXC4NAH",
        "colab_type": "text"
      },
      "cell_type": "markdown",
      "source": [
        "\n",
        "Additionally, we freeze the embedding layer (we set its `trainable` attribute to `False`), following the same rationale as what you are \n",
        "already familiar with in the context of pre-trained convnet features: when parts of a model are pre-trained (like our `Embedding` layer), \n",
        "and parts are randomly initialized (like our classifier), the pre-trained parts should not be updated during training to avoid forgetting \n",
        "what they already know. The large gradient update triggered by the randomly initialized layers would be very disruptive to the already \n",
        "learned features."
      ]
    },
    {
      "metadata": {
        "id": "Bz_UorNa4NAH",
        "colab_type": "text"
      },
      "cell_type": "markdown",
      "source": [
        "### Train and evaluate\n",
        "\n",
        "Let's compile our model and train it:"
      ]
    },
    {
      "metadata": {
        "id": "NhTK_jkr4NAI",
        "colab_type": "code",
        "outputId": "136dbce4-99c9-4ddc-beb3-1350ccadaa9d",
        "colab": {
          "base_uri": "https://localhost:8080/",
          "height": 370
        }
      },
      "cell_type": "code",
      "source": [
        "#Compile and train model\n",
        "model.compile(optimizer='rmsprop', loss='binary_crossentropy', metrics=['acc'])\n",
        "history = model.fit(x_train, y_train, epochs=10, batch_size=32, validation_data=(x_val, y_val))\n",
        "\n",
        "#Save the model weights to a file\n",
        "model.save_weights('pre_trained_spacy_model.h5')"
      ],
      "execution_count": 0,
      "outputs": [
        {
          "output_type": "stream",
          "text": [
            "Train on 200 samples, validate on 10000 samples\n",
            "Epoch 1/10\n",
            "200/200 [==============================] - 4s 19ms/step - loss: 7.2337 - acc: 0.4750 - val_loss: 7.9983 - val_acc: 0.4983\n",
            "Epoch 2/10\n",
            "200/200 [==============================] - 3s 16ms/step - loss: 8.3698 - acc: 0.4750 - val_loss: 7.9983 - val_acc: 0.4983\n",
            "Epoch 3/10\n",
            "200/200 [==============================] - 4s 18ms/step - loss: 8.3698 - acc: 0.4750 - val_loss: 7.9983 - val_acc: 0.4983\n",
            "Epoch 4/10\n",
            "200/200 [==============================] - 4s 18ms/step - loss: 8.3698 - acc: 0.4750 - val_loss: 7.9983 - val_acc: 0.4983\n",
            "Epoch 5/10\n",
            "200/200 [==============================] - 4s 18ms/step - loss: 8.3698 - acc: 0.4750 - val_loss: 7.9983 - val_acc: 0.4983\n",
            "Epoch 6/10\n",
            "200/200 [==============================] - 3s 16ms/step - loss: 8.3698 - acc: 0.4750 - val_loss: 7.9983 - val_acc: 0.4983\n",
            "Epoch 7/10\n",
            "200/200 [==============================] - 3s 16ms/step - loss: 8.3698 - acc: 0.4750 - val_loss: 7.9983 - val_acc: 0.4983\n",
            "Epoch 8/10\n",
            "200/200 [==============================] - 3s 16ms/step - loss: 8.3698 - acc: 0.4750 - val_loss: 7.9983 - val_acc: 0.4983\n",
            "Epoch 9/10\n",
            "200/200 [==============================] - 3s 16ms/step - loss: 8.3698 - acc: 0.4750 - val_loss: 7.9983 - val_acc: 0.4983\n",
            "Epoch 10/10\n",
            "200/200 [==============================] - 3s 16ms/step - loss: 8.3698 - acc: 0.4750 - val_loss: 7.9983 - val_acc: 0.4983\n"
          ],
          "name": "stdout"
        }
      ]
    },
    {
      "metadata": {
        "id": "957OvDMC4NAK",
        "colab_type": "text"
      },
      "cell_type": "markdown",
      "source": [
        "Let's plot its performance over time:"
      ]
    },
    {
      "metadata": {
        "id": "6KKJM3ZF4NAL",
        "colab_type": "code",
        "outputId": "4a8caf9e-59cc-4bd2-c575-91a2aea50ceb",
        "colab": {
          "base_uri": "https://localhost:8080/",
          "height": 706
        }
      },
      "cell_type": "code",
      "source": [
        "import matplotlib.pyplot as plt\n",
        "\n",
        "acc = history.history['acc']\n",
        "val_acc = history.history['val_acc']\n",
        "loss = history.history['loss']\n",
        "val_loss = history.history['val_loss']\n",
        "\n",
        "epochs = range(1, len(acc) + 1)\n",
        "\n",
        "plt.plot(epochs, acc, 'bo', label='Training acc')\n",
        "plt.plot(epochs, val_acc, 'b', label='Validation acc')\n",
        "plt.title('Training and validation accuracy')\n",
        "plt.legend()\n",
        "\n",
        "plt.figure()\n",
        "\n",
        "plt.plot(epochs, loss, 'bo', label='Training loss')\n",
        "plt.plot(epochs, val_loss, 'b', label='Validation loss')\n",
        "plt.title('Training and validation loss')\n",
        "plt.legend()\n",
        "\n",
        "plt.show()"
      ],
      "execution_count": 0,
      "outputs": [
        {
          "output_type": "display_data",
          "data": {
            "image/png": "[encoded data removed]",
            "text/plain": [
              "<matplotlib.figure.Figure at 0x7f4c8b6c5b50>"
            ]
          },
          "metadata": {
            "tags": []
          }
        },
        {
          "output_type": "display_data",
          "data": {
            "image/png": "[encoded data removed]",
            "text/plain": [
              "<matplotlib.figure.Figure at 0x7f4c8aa3b4d0>"
            ]
          },
          "metadata": {
            "tags": []
          }
        }
      ]
    },
    {
      "metadata": {
        "id": "7BpvSIAW4NAO",
        "colab_type": "text"
      },
      "cell_type": "markdown",
      "source": [
        "\n",
        "The model quickly starts overfitting, unsurprisingly given the small number of training samples. Validation accuracy though seems to reach 50s.\n",
        "\n",
        "Note that your mileage may vary: since we have so few training samples, performance is heavily dependent on which exact 200 samples we \n",
        "picked, and we picked them at random. If it worked really poorly for you, try picking a different random set of 200 samples, just for the \n",
        "sake of the exercise (in real life you don't get to pick your training data).\n",
        "\n",
        "We can also try to train the same model without loading the pre-trained word embeddings and without freezing the embedding layer. In that \n",
        "case, we would be learning a task-specific embedding of our input tokens, which is generally more powerful than pre-trained word embeddings \n",
        "when lots of data is available. However, in our case, we have only 200 training samples. Let's try it:"
      ]
    },
    {
      "metadata": {
        "id": "U2w_j0wg4NAP",
        "colab_type": "code",
        "outputId": "1f9f22c3-672a-4b09-cdb9-325958537caf",
        "colab": {
          "base_uri": "https://localhost:8080/",
          "height": 622
        }
      },
      "cell_type": "code",
      "source": [
        "#Train a model with with an Embedding layer as before\n",
        "from keras.models import Sequential\n",
        "from keras.layers import Embedding, Flatten, Dense\n",
        "\n",
        "maxlen = 200\n",
        "model = Sequential()\n",
        "model.add(Embedding(max_words, embedding_dim, input_length=maxlen))\n",
        "model.add(Flatten())\n",
        "model.add(Dense(32, activation='relu'))\n",
        "model.add(Dense(1, activation='sigmoid'))\n",
        "model.summary()\n",
        "\n",
        "model.compile(optimizer='rmsprop',\n",
        "              loss='binary_crossentropy',\n",
        "              metrics=['accuracy'])\n",
        "history = model.fit(x_train, y_train,\n",
        "                    epochs=10,\n",
        "                    batch_size=32,\n",
        "                    validation_data=(x_val, y_val))"
      ],
      "execution_count": 0,
      "outputs": [
        {
          "output_type": "stream",
          "text": [
            "_________________________________________________________________\n",
            "Layer (type)                 Output Shape              Param #   \n",
            "=================================================================\n",
            "embedding_8 (Embedding)      (None, 200, 384)          3840000   \n",
            "_________________________________________________________________\n",
            "flatten_8 (Flatten)          (None, 76800)             0         \n",
            "_________________________________________________________________\n",
            "dense_11 (Dense)             (None, 32)                2457632   \n",
            "_________________________________________________________________\n",
            "dense_12 (Dense)             (None, 1)                 33        \n",
            "=================================================================\n",
            "Total params: 6,297,665\n",
            "Trainable params: 6,297,665\n",
            "Non-trainable params: 0\n",
            "_________________________________________________________________\n",
            "Train on 200 samples, validate on 10000 samples\n",
            "Epoch 1/10\n",
            "200/200 [==============================] - 5s 24ms/step - loss: 1.0826 - acc: 0.4500 - val_loss: 0.7132 - val_acc: 0.5069\n",
            "Epoch 2/10\n",
            "200/200 [==============================] - 4s 19ms/step - loss: 0.4704 - acc: 0.7400 - val_loss: 0.7521 - val_acc: 0.5117\n",
            "Epoch 3/10\n",
            "200/200 [==============================] - 4s 19ms/step - loss: 0.2281 - acc: 0.9350 - val_loss: 1.3317 - val_acc: 0.5120\n",
            "Epoch 4/10\n",
            "200/200 [==============================] - 4s 19ms/step - loss: 0.1257 - acc: 0.9650 - val_loss: 0.7134 - val_acc: 0.5255\n",
            "Epoch 5/10\n",
            "200/200 [==============================] - 4s 19ms/step - loss: 0.0486 - acc: 0.9950 - val_loss: 0.7522 - val_acc: 0.5201\n",
            "Epoch 6/10\n",
            "200/200 [==============================] - 4s 20ms/step - loss: 0.0169 - acc: 1.0000 - val_loss: 0.6898 - val_acc: 0.5535\n",
            "Epoch 7/10\n",
            "200/200 [==============================] - 4s 20ms/step - loss: 0.0079 - acc: 1.0000 - val_loss: 0.7232 - val_acc: 0.5361\n",
            "Epoch 8/10\n",
            "200/200 [==============================] - 4s 20ms/step - loss: 0.0091 - acc: 1.0000 - val_loss: 0.7087 - val_acc: 0.5362\n",
            "Epoch 9/10\n",
            "200/200 [==============================] - 4s 18ms/step - loss: 0.0021 - acc: 1.0000 - val_loss: 0.7439 - val_acc: 0.5274\n",
            "Epoch 10/10\n",
            "200/200 [==============================] - 4s 19ms/step - loss: 0.0015 - acc: 1.0000 - val_loss: 0.7551 - val_acc: 0.5261\n"
          ],
          "name": "stdout"
        }
      ]
    },
    {
      "metadata": {
        "id": "LiAzbP0h5lZ6",
        "colab_type": "code",
        "colab": {}
      },
      "cell_type": "code",
      "source": [
        "#Save the model weights to a file\n",
        "model.save_weights('task_specific_spacy_model.h5')"
      ],
      "execution_count": 0,
      "outputs": []
    },
    {
      "metadata": {
        "id": "zrjPK_cO4NAS",
        "colab_type": "code",
        "outputId": "7a035ad7-ec58-4164-98d1-4ef878722128",
        "colab": {
          "base_uri": "https://localhost:8080/",
          "height": 706
        }
      },
      "cell_type": "code",
      "source": [
        "#Plot the performance of the model\n",
        "acc = history.history['acc']\n",
        "val_acc = history.history['val_acc']\n",
        "loss = history.history['loss']\n",
        "val_loss = history.history['val_loss']\n",
        "\n",
        "epochs = range(1, len(acc) + 1)\n",
        "\n",
        "plt.plot(epochs, acc, 'bo', label='Training acc')\n",
        "plt.plot(epochs, val_acc, 'b', label='Validation acc')\n",
        "plt.title('Training and validation accuracy')\n",
        "plt.legend()\n",
        "\n",
        "plt.figure()\n",
        "\n",
        "plt.plot(epochs, loss, 'bo', label='Training loss')\n",
        "plt.plot(epochs, val_loss, 'b', label='Validation loss')\n",
        "plt.title('Training and validation loss')\n",
        "plt.legend()\n",
        "\n",
        "plt.show()"
      ],
      "execution_count": 0,
      "outputs": [
        {
          "output_type": "display_data",
          "data": {
            "image/png": "[encoded data removed]",
            "text/plain": [
              "<matplotlib.figure.Figure at 0x7f4c99a56d50>"
            ]
          },
          "metadata": {
            "tags": []
          }
        },
        {
          "output_type": "display_data",
          "data": {
            "image/png": "[encoded data removed]",
            "text/plain": [
              "<matplotlib.figure.Figure at 0x7f4c9511df10>"
            ]
          },
          "metadata": {
            "tags": []
          }
        }
      ]
    },
    {
      "metadata": {
        "id": "XCwQQ4Ai4NAU",
        "colab_type": "text"
      },
      "cell_type": "markdown",
      "source": [
        "\n",
        "Validation accuracy stalls in the low 50s. \n",
        "\n",
        "Finally, let's evaluate the model on the test data. First, we will need to tokenize the test data:"
      ]
    },
    {
      "metadata": {
        "id": "G5qeq-nW4NAV",
        "colab_type": "code",
        "colab": {}
      },
      "cell_type": "code",
      "source": [
        "#Load the test data\n",
        "def load_test_data(imdb_dir):\n",
        "  test_dir = os.path.join(imdb_dir, 'test')\n",
        "\n",
        "  labels = []\n",
        "  texts = []\n",
        "\n",
        "  for label_type in ['neg', 'pos']:\n",
        "      dir_name = os.path.join(test_dir, label_type)\n",
        "      for fname in sorted(os.listdir(dir_name)):\n",
        "          if fname[-4:] == '.txt':\n",
        "              f = open(os.path.join(dir_name, fname))\n",
        "              texts.append(f.read())\n",
        "              f.close()\n",
        "              if label_type == 'neg':\n",
        "                  labels.append(0)\n",
        "              else:\n",
        "                  labels.append(1)\n",
        "\n",
        "\n",
        "  return texts, labels\n",
        "\n",
        "texts, labels = load_test_data('.')"
      ],
      "execution_count": 0,
      "outputs": []
    },
    {
      "metadata": {
        "id": "ZxGM12H29H6q",
        "colab_type": "code",
        "outputId": "93c6ff68-3e4a-4a89-da9a-1a6fb81f68b3",
        "colab": {
          "base_uri": "https://localhost:8080/",
          "height": 34
        }
      },
      "cell_type": "code",
      "source": [
        "#Obtain the padded sequences for the test set\n",
        "sequences = tokenizer.texts_to_sequences(texts)\n",
        "x_test = pad_sequences(sequences, maxlen=200)\n",
        "y_test = np.asarray(labels)\n",
        "  \n",
        "x_test.shape"
      ],
      "execution_count": 0,
      "outputs": [
        {
          "output_type": "execute_result",
          "data": {
            "text/plain": [
              "(25000, 200)"
            ]
          },
          "metadata": {
            "tags": []
          },
          "execution_count": 58
        }
      ]
    },
    {
      "metadata": {
        "id": "SlVlYReN4NAX",
        "colab_type": "text"
      },
      "cell_type": "markdown",
      "source": [
        "And let's load and evaluate the first model:"
      ]
    },
    {
      "metadata": {
        "id": "7zDSs36Q4NAX",
        "colab_type": "code",
        "outputId": "3146c50b-e4ab-43c3-b3a7-da14074c229b",
        "colab": {
          "base_uri": "https://localhost:8080/",
          "height": 67
        }
      },
      "cell_type": "code",
      "source": [
        "#Load the first model from the saved file\n",
        "#Evaluate against the test set\n",
        "model.load_weights('pre_trained_spacy_model.h5')\n",
        "\n",
        "#Evaluate against the test set\n",
        "#Reference - https://keras.io/models/model/#evaluate\n",
        "loss, acc = model.evaluate(x_test, y_test)\n",
        "print(model.metrics_names)\n",
        "print(loss, acc)\n"
      ],
      "execution_count": 0,
      "outputs": [
        {
          "output_type": "stream",
          "text": [
            "25000/25000 [==============================] - 9s 360us/step\n",
            "(7.971192420387268, 0.5)\n",
            "['loss', 'acc']\n"
          ],
          "name": "stdout"
        }
      ]
    },
    {
      "metadata": {
        "id": "rFEigRWOE1G0",
        "colab_type": "text"
      },
      "cell_type": "markdown",
      "source": [
        "Lets try with the second model:"
      ]
    },
    {
      "metadata": {
        "id": "TbXEVGKeE39J",
        "colab_type": "code",
        "outputId": "8f27574c-5487-446b-dc4d-c4ae5026d868",
        "colab": {
          "base_uri": "https://localhost:8080/",
          "height": 67
        }
      },
      "cell_type": "code",
      "source": [
        "#Load the second model from the saved file\n",
        "#Evaluate against the test set\n",
        "model.load_weights('task_specific_spacy_model.h5')\n",
        "loss, acc = model.evaluate(x_test, y_test)\n",
        "print(model.metrics_names)\n",
        "print(loss, acc)"
      ],
      "execution_count": 0,
      "outputs": [
        {
          "output_type": "stream",
          "text": [
            "25000/25000 [==============================] - 8s 340us/step\n",
            "['loss', 'acc']\n",
            "(0.7483028992462158, 0.5092)\n"
          ],
          "name": "stdout"
        }
      ]
    },
    {
      "metadata": {
        "id": "394siKPb4NAb",
        "colab_type": "text"
      },
      "cell_type": "markdown",
      "source": [
        "We get an appalling test accuracy of ~50% in both cases."
      ]
    },
    {
      "metadata": {
        "id": "39Z6wNDm6pOp",
        "colab_type": "text"
      },
      "cell_type": "markdown",
      "source": [
        "## An alternate approach with TfIdf\n",
        "\n",
        "While using sequence vectors is one way transform our text data, and train a model, we can also use another approach by vectorizing the data using term frequencies across texts. Transforming text into Tfidf vectors is one such popular technique. Read more about TfIdf here: [https://en.wikipedia.org/wiki/Tf%E2%80%93idf](https://en.wikipedia.org/wiki/Tf%E2%80%93idf)\n",
        "\n",
        "To convert our text to TfIdf vectors, we can use the popular Sci-kit learn library. "
      ]
    },
    {
      "metadata": {
        "id": "buVffO9r6jBe",
        "colab_type": "code",
        "colab": {}
      },
      "cell_type": "code",
      "source": [
        "from sklearn.feature_extraction.text import TfidfVectorizer\n",
        "from sklearn.feature_selection import SelectKBest\n",
        "from sklearn.feature_selection import f_classif\n",
        "from sklearn.model_selection import train_test_split\n",
        "\n",
        "# Vectorization parameters\n",
        "\n",
        "# Range (inclusive) of n-gram sizes for tokenizing text.\n",
        "NGRAM_RANGE = (1, 2)\n",
        "\n",
        "# Limit on the number of features. We use the top 20K features.\n",
        "TOP_K = 20000\n",
        "\n",
        "# Whether text should be split into word or character n-grams.\n",
        "# One of 'word', 'char'.\n",
        "TOKEN_MODE = 'word'\n",
        "\n",
        "# Minimum document/corpus frequency below which a token will be discarded.\n",
        "MIN_DOCUMENT_FREQUENCY = 2\n",
        "\n",
        "# Limit on the length of text sequences. Sequences longer than this\n",
        "# will be truncated.\n",
        "MAX_SEQUENCE_LENGTH = 500\n",
        "\n",
        "\n",
        "def ngram_vectorize(train_texts, train_labels, val_texts):\n",
        "    \"\"\"Vectorizes texts as ngram vectors.\n",
        "    1 text = 1 tf-idf vector the length of vocabulary of uni-grams + bi-grams.\n",
        "    # Arguments\n",
        "        train_texts: list, training text strings.\n",
        "        train_labels: np.ndarray, training labels.\n",
        "        val_texts: list, validation text strings.\n",
        "    # Returns\n",
        "        x_train, x_val: vectorized training and validation texts\n",
        "    \"\"\"\n",
        "    # Create keyword arguments to pass to the 'tf-idf' vectorizer.\n",
        "    kwargs = {\n",
        "            'ngram_range': NGRAM_RANGE,  # Use 1-grams + 2-grams.\n",
        "            'dtype': 'int32',\n",
        "            'strip_accents': 'unicode',\n",
        "            'decode_error': 'replace',\n",
        "            'analyzer': TOKEN_MODE,  # Split text into word tokens.\n",
        "            'min_df': MIN_DOCUMENT_FREQUENCY,\n",
        "    }\n",
        "    vectorizer = TfidfVectorizer(**kwargs)\n",
        "\n",
        "    # Learn vocabulary from training texts and vectorize training texts.\n",
        "    x_train = vectorizer.fit_transform(train_texts)\n",
        "\n",
        "    # Vectorize validation texts.\n",
        "    x_val = vectorizer.transform(val_texts)\n",
        "\n",
        "    # Select top 'k' of the vectorized features.\n",
        "    selector = SelectKBest(f_classif, k=min(TOP_K, x_train.shape[1]))\n",
        "    selector.fit(x_train, train_labels)\n",
        "    x_train = selector.transform(x_train)\n",
        "    x_val = selector.transform(x_val)\n",
        "\n",
        "    x_train = x_train.astype('float32')\n",
        "    x_val = x_val.astype('float32')\n",
        "    return x_train, x_val, vectorizer, selector"
      ],
      "execution_count": 0,
      "outputs": []
    },
    {
      "metadata": {
        "id": "CNYxk7g57XKd",
        "colab_type": "code",
        "outputId": "d8cf403f-7f92-49f9-d716-7a0c69b60a46",
        "colab": {
          "base_uri": "https://localhost:8080/",
          "height": 34
        }
      },
      "cell_type": "code",
      "source": [
        "#Load the dataset again\n",
        "#Split the data into train and test\n",
        "texts, labels = load_imdb('./')  \n",
        "x_train, x_val, y_train, y_val = train_test_split(texts, labels, test_size=5000, train_size=20000, random_state=42)\n",
        "\n",
        "#Output the shape of the new training data and test data\n",
        "print(len(x_train), len(x_val))"
      ],
      "execution_count": 0,
      "outputs": [
        {
          "output_type": "stream",
          "text": [
            "(20000, 5000)\n"
          ],
          "name": "stdout"
        }
      ]
    },
    {
      "metadata": {
        "id": "LtWH_TwK9LL4",
        "colab_type": "code",
        "colab": {}
      },
      "cell_type": "code",
      "source": [
        "# Lets vectorize our texts using TfIdf\n",
        "x_train, x_val, vectorizer, selector = ngram_vectorize(x_train, y_train, x_val)"
      ],
      "execution_count": 0,
      "outputs": []
    },
    {
      "metadata": {
        "id": "0KNOteiE9Z_d",
        "colab_type": "code",
        "outputId": "4335d02c-1aaa-4251-ecbb-5c7148fc256f",
        "colab": {
          "base_uri": "https://localhost:8080/",
          "height": 34
        }
      },
      "cell_type": "code",
      "source": [
        "print(x_train.shape, x_val.shape)\n"
      ],
      "execution_count": 0,
      "outputs": [
        {
          "output_type": "stream",
          "text": [
            "((20000, 20000), (5000, 20000))\n"
          ],
          "name": "stdout"
        }
      ]
    },
    {
      "metadata": {
        "id": "MTr29GKgHuJi",
        "colab_type": "code",
        "colab": {}
      },
      "cell_type": "code",
      "source": [
        "x_test, y_test = load_test_data('.')\n",
        "x_test = vectorizer.transform(x_test)\n",
        "x_test = selector.transform(x_test)\n",
        "x_test = x_test.astype('float32')"
      ],
      "execution_count": 0,
      "outputs": []
    },
    {
      "metadata": {
        "id": "MFLtO-ns9c5u",
        "colab_type": "text"
      },
      "cell_type": "markdown",
      "source": [
        "Let's use these vectors and train a simple neural network model and see how it performs on the validation set. "
      ]
    },
    {
      "metadata": {
        "id": "vAwmDtID-dA6",
        "colab_type": "code",
        "colab": {}
      },
      "cell_type": "code",
      "source": [
        "from keras import models\n",
        "from keras.layers import Dropout, Dense\n",
        "\n",
        "def mlp_model(input_shape):\n",
        "    \"\"\"Creates an instance of a multi-layer perceptron model.\n",
        "    # Returns\n",
        "        An MLP model instance.\n",
        "    \"\"\"\n",
        "    model = models.Sequential()\n",
        "    model.add(Dropout(rate=0.3, input_shape=input_shape))\n",
        "    model.add(Dense(units=64, activation='relu'))\n",
        "    model.add(Dropout(rate=0.3))\n",
        "    model.add(Dense(units=64, activation='relu'))\n",
        "    model.add(Dropout(rate=0.1))\n",
        "    model.add(Dense(units=1, activation=\"sigmoid\"))\n",
        "    return model"
      ],
      "execution_count": 0,
      "outputs": []
    },
    {
      "metadata": {
        "id": "_YfBJp70_QAc",
        "colab_type": "code",
        "outputId": "c2c8094a-56bf-4af5-8d55-61eabd79ea84",
        "colab": {
          "base_uri": "https://localhost:8080/",
          "height": 153
        }
      },
      "cell_type": "code",
      "source": [
        "# Create model instance.\n",
        "model = mlp_model(x_train.shape[1:]) \n",
        "optimizer = keras.optimizers.Adam(lr=1e-3)\n",
        "# Create callback for early stopping on validation loss. If the loss does\n",
        "# not decrease in two consecutive tries, stop training.\n",
        "callbacks = [keras.callbacks.EarlyStopping(\n",
        "        monitor='val_loss', patience=2)]\n",
        "model.compile(optimizer=optimizer, loss=\"binary_crossentropy\", metrics=['acc'])\n",
        "history = model.fit(\n",
        "          x_train,\n",
        "          y_train,\n",
        "          epochs=10,\n",
        "          callbacks=callbacks,\n",
        "          validation_data=(x_val, y_val),\n",
        "          verbose=2,  # Logs once per epoch.\n",
        "          batch_size=32)\n",
        "\n",
        "# Print results.\n",
        "history = history.history\n",
        "print('Validation accuracy: {acc}, loss: {loss}'.format(\n",
        "        acc=history['val_acc'][-1], loss=history['val_loss'][-1]))"
      ],
      "execution_count": 0,
      "outputs": [
        {
          "output_type": "stream",
          "text": [
            "Train on 20000 samples, validate on 5000 samples\n",
            "Epoch 1/10\n",
            " - 22s - loss: 0.2966 - acc: 0.8809 - val_loss: 0.2406 - val_acc: 0.9066\n",
            "Epoch 2/10\n",
            " - 21s - loss: 0.1335 - acc: 0.9488 - val_loss: 0.2448 - val_acc: 0.9036\n",
            "Epoch 3/10\n",
            " - 21s - loss: 0.0889 - acc: 0.9662 - val_loss: 0.2752 - val_acc: 0.8992\n",
            "Validation accuracy: 0.8992, loss: 0.275228200442\n"
          ],
          "name": "stdout"
        }
      ]
    },
    {
      "metadata": {
        "id": "1Sv3gogYC5XK",
        "colab_type": "text"
      },
      "cell_type": "markdown",
      "source": [
        "As you can see, a simple model like this with TfIdf features goes a long way in getting a reasonable accuracy for such datasets with limited \n",
        "training examples. Let's evaluate this model on our test set and get some metrics."
      ]
    },
    {
      "metadata": {
        "id": "x5UyvC2bIJUT",
        "colab_type": "code",
        "colab": {}
      },
      "cell_type": "code",
      "source": [
        "from sklearn.metrics import classification_report, accuracy_score\n",
        "y_pred = model.predict_classes(x_test)"
      ],
      "execution_count": 0,
      "outputs": []
    },
    {
      "metadata": {
        "id": "Omcj5xH-IZaS",
        "colab_type": "code",
        "colab": {}
      },
      "cell_type": "code",
      "source": [
        "y_pred = [item[0] for item in list(y_pred)]"
      ],
      "execution_count": 0,
      "outputs": []
    },
    {
      "metadata": {
        "id": "GFzAYpqTIiIg",
        "colab_type": "code",
        "outputId": "84be37af-3e0e-4c6a-efb7-38ffb4ad4c7c",
        "colab": {
          "base_uri": "https://localhost:8080/",
          "height": 136
        }
      },
      "cell_type": "code",
      "source": [
        "print(classification_report(y_test, y_pred))"
      ],
      "execution_count": 0,
      "outputs": [
        {
          "output_type": "stream",
          "text": [
            "             precision    recall  f1-score   support\n",
            "\n",
            "          0       0.90      0.88      0.89     12500\n",
            "          1       0.88      0.90      0.89     12500\n",
            "\n",
            "avg / total       0.89      0.89      0.89     25000\n",
            "\n"
          ],
          "name": "stdout"
        }
      ]
    },
    {
      "metadata": {
        "id": "sRwleLGXIrTg",
        "colab_type": "code",
        "outputId": "4cfff116-0ad7-425c-e648-93d378bdb35a",
        "colab": {
          "base_uri": "https://localhost:8080/",
          "height": 34
        }
      },
      "cell_type": "code",
      "source": [
        "print(accuracy_score(y_test, y_pred))"
      ],
      "execution_count": 0,
      "outputs": [
        {
          "output_type": "stream",
          "text": [
            "0.89048\n"
          ],
          "name": "stdout"
        }
      ]
    },
    {
      "metadata": {
        "id": "S95s84je4NAc",
        "colab_type": "text"
      },
      "cell_type": "markdown",
      "source": [
        "## A first recurrent layer in Keras"
      ]
    },
    {
      "metadata": {
        "id": "ZGY1DjYr4NAk",
        "colab_type": "code",
        "outputId": "01bc9e17-78f3-4837-b4e8-167e5d150e24",
        "colab": {
          "base_uri": "https://localhost:8080/",
          "height": 34
        }
      },
      "cell_type": "code",
      "source": [
        "from keras.layers import SimpleRNN"
      ],
      "execution_count": 0,
      "outputs": [
        {
          "output_type": "stream",
          "text": [
            "Using TensorFlow backend.\n"
          ],
          "name": "stderr"
        }
      ]
    },
    {
      "metadata": {
        "id": "7nM08isR4NAy",
        "colab_type": "text"
      },
      "cell_type": "markdown",
      "source": [
        "`SimpleRNN` processes batches of sequences, like all other Keras layers, not just a single sequence.\n",
        "Like all recurrent layers in Keras, `SimpleRNN` can be run in two different modes: it can return either the full sequences of successive \n",
        "outputs for each timestep (a 3D tensor of shape `(batch_size, timesteps, output_features)`), or it can return only the last output for each \n",
        "input sequence (a 2D tensor of shape `(batch_size, output_features)`). These two modes are controlled by the `return_sequences` constructor \n",
        "argument. Let's take a look at an example:"
      ]
    },
    {
      "metadata": {
        "id": "J09etMVl4NA0",
        "colab_type": "text"
      },
      "cell_type": "markdown",
      "source": [
        "## Exercise 2: Lets add a SimpleRNN layer to our model with embedding dimension 32"
      ]
    },
    {
      "metadata": {
        "id": "ngTLm0hB4NA8",
        "colab_type": "code",
        "colab": {}
      },
      "cell_type": "code",
      "source": [
        "from keras.models import Sequential\n",
        "from keras.layers import Embedding, SimpleRNN\n",
        "\n",
        "model = Sequential()\n",
        "# Add an Embedding layer of 10000 vocab size(or max features) and 32 dimensions\n",
        "# ...\n",
        "# Add a SimpleRNN layer of output 32 dimensions\n",
        "# ...\n",
        "\n",
        "model.add(Embedding(10000, 32))\n",
        "model.add(SimpleRNN(32))\n",
        "model.summary()"
      ],
      "execution_count": 0,
      "outputs": []
    },
    {
      "metadata": {
        "id": "kuJa104x4NBC",
        "colab_type": "text"
      },
      "cell_type": "markdown",
      "source": [
        "It is sometimes useful to stack several recurrent layers one after the other in order to increase the representational power of a network. \n",
        "In such a setup, you have to get all intermediate layers to return full sequences:"
      ]
    },
    {
      "metadata": {
        "id": "S5UxZXlz4NBD",
        "colab_type": "code",
        "colab": {}
      },
      "cell_type": "code",
      "source": [
        "# Let us add 3 more SimpleRNN layers. This time we also want to set the \n",
        "# `return_sequences` parameter to be True.\n",
        "# This will return the output for each timestep as opposed to returning the output \n",
        "# for only the last timestep.\n",
        "# Compare model.summary() to see this difference.\n",
        "model = Sequential()\n",
        "model.add(Embedding(10000, 32))\n",
        "model.add(SimpleRNN(32, return_sequences=True))\n",
        "model.add(SimpleRNN(32, return_sequences=True))\n",
        "model.add(SimpleRNN(32, return_sequences=True))\n",
        "model.add(SimpleRNN(32))  # This last layer only returns the last outputs.\n",
        "model.summary()"
      ],
      "execution_count": 0,
      "outputs": []
    },
    {
      "metadata": {
        "id": "cVvoh3qy4NBG",
        "colab_type": "text"
      },
      "cell_type": "markdown",
      "source": [
        "Now let's try to use such a model on the IMDB movie review classification problem. First, let's preprocess the data:"
      ]
    },
    {
      "metadata": {
        "id": "PSFJQhm94NBH",
        "colab_type": "code",
        "colab": {}
      },
      "cell_type": "code",
      "source": [
        "from keras.datasets import imdb\n",
        "from keras.preprocessing import sequence\n",
        "\n",
        "max_features = 10000  # number of words to consider as features\n",
        "maxlen = 500  # cut texts after this number of words (among top max_features most common words)\n",
        "batch_size = 32\n",
        "\n",
        "print('Loading data...')\n",
        "# Lets use more number of words for our dataset\n",
        "texts, labels = load_imdb('./')  \n",
        "((input_train, y_train), (x_val, y_val)), tokenizer, data, labels, indices = tokenize_texts(texts, labels, maxlen, max_features, 20000,5000, verbose=True)\n",
        "input_test, y_test = load_test_data('.', tokenizer, maxlen)\n",
        "print(len(input_train), 'train sequences')\n",
        "print(len(input_test), 'test sequences')\n",
        "print('input_train shape:', input_train.shape)\n",
        "print('input_test shape:', input_test.shape)"
      ],
      "execution_count": 0,
      "outputs": []
    },
    {
      "metadata": {
        "id": "XCGz7Ltc4NBJ",
        "colab_type": "text"
      },
      "cell_type": "markdown",
      "source": [
        "Let's train a simple recurrent network using an `Embedding` layer and a `SimpleRNN` layer:"
      ]
    },
    {
      "metadata": {
        "id": "Nj3kROw74NBJ",
        "colab_type": "code",
        "colab": {}
      },
      "cell_type": "code",
      "source": [
        "from keras.layers import Dense\n",
        "\n",
        "model = Sequential()\n",
        "model.add(Embedding(max_features, 32))\n",
        "model.add(SimpleRNN(32))\n",
        "model.add(Dense(1, activation='sigmoid'))\n",
        "\n",
        "model.compile(optimizer='rmsprop', loss='binary_crossentropy', metrics=['acc'])\n",
        "history = model.fit(input_train, y_train,\n",
        "                    epochs=10,\n",
        "                    batch_size=128,\n",
        "                    validation_data=(x_val, y_val))"
      ],
      "execution_count": 0,
      "outputs": []
    },
    {
      "metadata": {
        "id": "Bu4LlSrw4NBL",
        "colab_type": "text"
      },
      "cell_type": "markdown",
      "source": [
        "Let's display the training and validation loss and accuracy:"
      ]
    },
    {
      "metadata": {
        "id": "t5EWUc4B4NBM",
        "colab_type": "code",
        "colab": {}
      },
      "cell_type": "code",
      "source": [
        "import matplotlib.pyplot as plt\n",
        "\n",
        "acc = history.history['acc']\n",
        "val_acc = history.history['val_acc']\n",
        "loss = history.history['loss']\n",
        "val_loss = history.history['val_loss']\n",
        "\n",
        "epochs = range(len(acc))\n",
        "\n",
        "plt.plot(epochs, acc, 'bo', label='Training acc')\n",
        "plt.plot(epochs, val_acc, 'b', label='Validation acc')\n",
        "plt.title('Training and validation accuracy')\n",
        "plt.legend()\n",
        "\n",
        "plt.figure()\n",
        "\n",
        "plt.plot(epochs, loss, 'bo', label='Training loss')\n",
        "plt.plot(epochs, val_loss, 'b', label='Validation loss')\n",
        "plt.title('Training and validation loss')\n",
        "plt.legend()\n",
        "\n",
        "plt.show()"
      ],
      "execution_count": 0,
      "outputs": []
    },
    {
      "metadata": {
        "id": "ZJ1_kvCv4NBO",
        "colab_type": "text"
      },
      "cell_type": "markdown",
      "source": [
        "Unfortunately, our small \n",
        "recurrent network doesn't perform very well at all compared to this baseline (only up to 85% validation accuracy). Part of the problem is \n",
        "that our inputs only consider the first 500 words rather the full sequences -- \n",
        "hence our RNN has access to less information than our earlier baseline model. The remainder of the problem is simply that `SimpleRNN` isn't very good at processing long sequences, like text. Other types of recurrent layers perform much better. Let's take a look at some \n",
        "more advanced layers."
      ]
    },
    {
      "metadata": {
        "id": "kOEdaiE-4NBP",
        "colab_type": "text"
      },
      "cell_type": "markdown",
      "source": [
        "## A concrete LSTM example in Keras\n",
        "Now let's switch to more practical concerns: we will set up a model using a LSTM layer and train it on the IMDB data. Here's the network, \n",
        "similar to the one with `SimpleRNN` that we just presented. We only specify the output dimensionality of the LSTM layer, and leave every \n",
        "other argument (there are lots) to the Keras defaults. Keras has good defaults, and things will almost always \"just work\" without you \n",
        "having to spend time tuning parameters by hand."
      ]
    },
    {
      "metadata": {
        "id": "pHEyGw6T4NBQ",
        "colab_type": "text"
      },
      "cell_type": "markdown",
      "source": [
        "## Exercise 3: Use an LSTM layer instead of a SimpleRNN layer"
      ]
    },
    {
      "metadata": {
        "id": "iwM-I9ny4NBV",
        "colab_type": "code",
        "colab": {}
      },
      "cell_type": "code",
      "source": [
        "from keras.layers import LSTM\n",
        "\n",
        "model = Sequential()\n",
        "# Add an Embedding layer as before with 10000 vocab size(max features) and 32 output dimensions\n",
        "# ...\n",
        "# Add a LSTM layer of 32 dimensions\n",
        "# ...\n",
        "\n",
        "model.add(Embedding(max_features, 32))\n",
        "model.add(LSTM(32))\n",
        "model.add(Dense(1, activation='sigmoid'))\n",
        "model.compile(optimizer='rmsprop',\n",
        "              loss='binary_crossentropy',\n",
        "              metrics=['acc'])\n",
        "history = model.fit(input_train, y_train,\n",
        "                    epochs=10,\n",
        "                    batch_size=128,\n",
        "                    validation_data=(x_val, y_val))"
      ],
      "execution_count": 0,
      "outputs": []
    },
    {
      "metadata": {
        "id": "mg6pJeXK4NBi",
        "colab_type": "code",
        "colab": {}
      },
      "cell_type": "code",
      "source": [
        "acc = history.history['acc']\n",
        "val_acc = history.history['val_acc']\n",
        "loss = history.history['loss']\n",
        "val_loss = history.history['val_loss']\n",
        "\n",
        "epochs = range(len(acc))\n",
        "\n",
        "plt.plot(epochs, acc, 'bo', label='Training acc')\n",
        "plt.plot(epochs, val_acc, 'b', label='Validation acc')\n",
        "plt.title('Training and validation accuracy')\n",
        "plt.legend()\n",
        "\n",
        "plt.figure()\n",
        "\n",
        "plt.plot(epochs, loss, 'bo', label='Training loss')\n",
        "plt.plot(epochs, val_loss, 'b', label='Validation loss')\n",
        "plt.title('Training and validation loss')\n",
        "plt.legend()\n",
        "\n",
        "plt.show()"
      ],
      "execution_count": 0,
      "outputs": []
    },
    {
      "metadata": {
        "id": "zM3yajG74NBo",
        "colab_type": "text"
      },
      "cell_type": "markdown",
      "source": [
        "You can see that the accuracy is 87%, much higher than what we got with a SimpleRNN layer. "
      ]
    }
  ]
}

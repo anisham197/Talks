{
  "nbformat": 4,
  "nbformat_minor": 0,
  "metadata": {
    "colab": {
      "name": "Audience Colab",
      "version": "0.3.2",
      "provenance": [],
      "collapsed_sections": [],
      "toc_visible": true
    },
    "kernelspec": {
      "name": "python3",
      "display_name": "Python 3"
    }
  },
  "cells": [
    {
      "metadata": {
        "id": "6kMejK17uHDu",
        "colab_type": "text"
      },
      "cell_type": "markdown",
      "source": [
        "# Sign Language Recognizer"
      ]
    },
    {
      "metadata": {
        "id": "41KWpg-a9hlK",
        "colab_type": "text"
      },
      "cell_type": "markdown",
      "source": [
        "In this codelab you will train a machine learning model to identify the different signs in  American Sign Language, such that given an image of a hand sign the model predicts what alphabet the sign corresponds to. For this multi class classification problem, we will use 2 different models (a Multi Layer Perceptron and a CNN) and compare the results. "
      ]
    },
    {
      "metadata": {
        "id": "tAHpbbsNAVJN",
        "colab_type": "text"
      },
      "cell_type": "markdown",
      "source": [
        "### Download the data"
      ]
    },
    {
      "metadata": {
        "id": "rnaDwBELAaPz",
        "colab_type": "text"
      },
      "cell_type": "markdown",
      "source": [
        "First let us download the data"
      ]
    },
    {
      "metadata": {
        "id": "ELSo0ZJ9ubO7",
        "colab_type": "code",
        "outputId": "96ec7337-dd7c-4199-9475-f3afd9fbc7e0",
        "colab": {
          "base_uri": "https://localhost:8080/",
          "height": 204
        }
      },
      "cell_type": "code",
      "source": [
        "# Download the dataset\n",
        "!wget https://raw.githubusercontent.com/anisham197/WTMExtendedSummit/master/data/sign-language-mnist.zip"
      ],
      "execution_count": 0,
      "outputs": [
        {
          "output_type": "stream",
          "text": [
            "--2019-04-06 12:13:17--  https://raw.githubusercontent.com/anisham197/WTMExtendedSummit/master/data/sign-language-mnist.zip\n",
            "Resolving raw.githubusercontent.com (raw.githubusercontent.com)... 151.101.0.133, 151.101.64.133, 151.101.128.133, ...\n",
            "Connecting to raw.githubusercontent.com (raw.githubusercontent.com)|151.101.0.133|:443... connected.\n",
            "HTTP request sent, awaiting response... 200 OK\n",
            "Length: 32286533 (31M) [application/zip]\n",
            "Saving to: ‘sign-language-mnist.zip’\n",
            "\n",
            "sign-language-mnist 100%[===================>]  30.79M  79.6MB/s    in 0.4s    \n",
            "\n",
            "2019-04-06 12:13:22 (79.6 MB/s) - ‘sign-language-mnist.zip’ saved [32286533/32286533]\n",
            "\n"
          ],
          "name": "stdout"
        }
      ]
    },
    {
      "metadata": {
        "id": "_PGch19Mur8_",
        "colab_type": "code",
        "colab": {}
      },
      "cell_type": "code",
      "source": [
        "mkdir input"
      ],
      "execution_count": 0,
      "outputs": []
    },
    {
      "metadata": {
        "id": "gKsfE3Y9vm7L",
        "colab_type": "code",
        "colab": {}
      },
      "cell_type": "code",
      "source": [
        "!unzip sign-language-mnist.zip -d input/"
      ],
      "execution_count": 0,
      "outputs": []
    },
    {
      "metadata": {
        "id": "Ix-FhSSAAhkW",
        "colab_type": "text"
      },
      "cell_type": "markdown",
      "source": [
        "Take a look at the different hand signs in American Sign Language"
      ]
    },
    {
      "metadata": {
        "id": "w1GpYqitvonc",
        "colab_type": "code",
        "colab": {}
      },
      "cell_type": "code",
      "source": [
        "from IPython.display import Image\n",
        "Image(\"./input/amer_sign2.png\")"
      ],
      "execution_count": 0,
      "outputs": []
    },
    {
      "metadata": {
        "id": "3oBtwU7ov5q1",
        "colab_type": "text"
      },
      "cell_type": "markdown",
      "source": [
        "# About the data"
      ]
    },
    {
      "metadata": {
        "id": "5bhEHW8Rv6lz",
        "colab_type": "text"
      },
      "cell_type": "markdown",
      "source": [
        "The American Sign Language letter database of hand gestures represent a multi-class problem with 24 classes of letters (excluding J and Z which require motion). The dataset format is patterned to match closely with the classic MNIST. Each training and test case represents a label (0-25) as a one-to-one map for each alphabetic letter A-Z (and no cases for 9=J or 25=Z because of gesture motions). The training data (27,455 cases) and test data (7172 cases) are approximately half the size of the standard MNIST but otherwise similar with a header row of label, pixel1,pixel2....pixel784 which represent a single 28x28 pixel image with grayscale values between 0-255."
      ]
    },
    {
      "metadata": {
        "id": "Y_bltVgXv9S6",
        "colab_type": "code",
        "colab": {}
      },
      "cell_type": "code",
      "source": [
        "from IPython.display import Image\n",
        "Image(\"./input/amer_sign3.png\")"
      ],
      "execution_count": 0,
      "outputs": []
    },
    {
      "metadata": {
        "id": "AV74xDVxwAEQ",
        "colab_type": "code",
        "colab": {}
      },
      "cell_type": "code",
      "source": [
        "from IPython.display import Image\n",
        "Image(\"./input/american_sign_language.PNG\")"
      ],
      "execution_count": 0,
      "outputs": []
    },
    {
      "metadata": {
        "id": "acM4YmsEPt1w",
        "colab_type": "text"
      },
      "cell_type": "markdown",
      "source": [
        "# Data Exploration"
      ]
    },
    {
      "metadata": {
        "id": "4_cO6qmawUiB",
        "colab_type": "text"
      },
      "cell_type": "markdown",
      "source": [
        "### Import Libraries"
      ]
    },
    {
      "metadata": {
        "id": "jeQALCE7BL0-",
        "colab_type": "text"
      },
      "cell_type": "markdown",
      "source": [
        "Import the libraries used in this codelab"
      ]
    },
    {
      "metadata": {
        "id": "RDZfSQM2wCSw",
        "colab_type": "code",
        "colab": {}
      },
      "cell_type": "code",
      "source": [
        "import numpy as np\n",
        "import pandas as pd\n",
        "import keras\n",
        "import matplotlib.pyplot as plt"
      ],
      "execution_count": 0,
      "outputs": []
    },
    {
      "metadata": {
        "id": "uYlpBZhQwsll",
        "colab_type": "text"
      },
      "cell_type": "markdown",
      "source": [
        "### **Load the dataset**"
      ]
    },
    {
      "metadata": {
        "id": "rAsI4E-HwPom",
        "colab_type": "code",
        "colab": {}
      },
      "cell_type": "code",
      "source": [
        "# Load the train and test datasets using pandas.\n",
        "# Reference - https://pandas.pydata.org/pandas-docs/version/0.22/generated/pandas.read_csv.html"
      ],
      "execution_count": 0,
      "outputs": []
    },
    {
      "metadata": {
        "id": "_ztWOZz0zLFZ",
        "colab_type": "code",
        "colab": {}
      },
      "cell_type": "code",
      "source": [
        "# Display first n rows of the data.\n",
        "# Reference - https://pandas.pydata.org/pandas-docs/stable/reference/frame.html"
      ],
      "execution_count": 0,
      "outputs": []
    },
    {
      "metadata": {
        "id": "uRF9A8FIzipG",
        "colab_type": "code",
        "colab": {}
      },
      "cell_type": "code",
      "source": [
        "# View the dimensionality of the DataFrame.\n",
        "# Reference - https://pandas.pydata.org/pandas-docs/stable/reference/frame.html"
      ],
      "execution_count": 0,
      "outputs": []
    },
    {
      "metadata": {
        "id": "8248ptDQ0g3M",
        "colab_type": "text"
      },
      "cell_type": "markdown",
      "source": [
        "Extract the train/test labels and convert train/test data to numpy arrays.\n",
        "\n"
      ]
    },
    {
      "metadata": {
        "id": "wCTzfGfA2lCS",
        "colab_type": "code",
        "colab": {}
      },
      "cell_type": "code",
      "source": [
        "# Load the train and test labels as numpy arrays.\n",
        "# Reference - https://pandas.pydata.org/pandas-docs/version/0.22/generated/pandas.DataFrame.values.html"
      ],
      "execution_count": 0,
      "outputs": []
    },
    {
      "metadata": {
        "id": "LD2G_-XRPbI9",
        "colab_type": "code",
        "colab": {}
      },
      "cell_type": "code",
      "source": [
        "# Print the train and test labels and their dimensionality.\n",
        "print('Train Labels:\\n', y)\n",
        "print('Shape of Labels:', y.shape)\n",
        "print('Test Labels:\\n', y_test)\n",
        "print('Shape of Test Labels:', y_test.shape)"
      ],
      "execution_count": 0,
      "outputs": []
    },
    {
      "metadata": {
        "id": "LDk_3lJYP3Xn",
        "colab_type": "code",
        "colab": {}
      },
      "cell_type": "code",
      "source": [
        "x = (train.drop('label', axis = 1, inplace = False)).values\n",
        "x_test = (test.drop('label', axis = 1, inplace = False)).values\n",
        "\n",
        "print('Train Feature matrix:\\n', x)\n",
        "print('Train Shape of Feature matrix:', x.shape)\n",
        "print('Test Feature matrix:\\n', x_test)\n",
        "print('Test Shape of Feature matrix:', x_test.shape)"
      ],
      "execution_count": 0,
      "outputs": []
    },
    {
      "metadata": {
        "id": "AjOpxxdYCBwr",
        "colab_type": "text"
      },
      "cell_type": "markdown",
      "source": [
        "Let us plot the label distribution"
      ]
    },
    {
      "metadata": {
        "id": "e98Et11iPxOg",
        "colab_type": "code",
        "colab": {}
      },
      "cell_type": "code",
      "source": [
        "import seaborn as sns\n",
        "\n",
        "sns.countplot(x = y)\n",
        "plt.show()"
      ],
      "execution_count": 0,
      "outputs": []
    },
    {
      "metadata": {
        "id": "HWCpgKBxCxaK",
        "colab_type": "text"
      },
      "cell_type": "markdown",
      "source": [
        "Convert a row in the dataset to it's corresponding image"
      ]
    },
    {
      "metadata": {
        "id": "iWCH1HucP-zx",
        "colab_type": "code",
        "colab": {}
      },
      "cell_type": "code",
      "source": [
        "plt.imshow(x[1].reshape(28,28), cmap='gray')\n",
        "plt.title(str(y[1]) + ' - ' + chr(y[1] + ord('A')))\n",
        "plt.show()"
      ],
      "execution_count": 0,
      "outputs": []
    },
    {
      "metadata": {
        "id": "LplzavVUEPyJ",
        "colab_type": "text"
      },
      "cell_type": "markdown",
      "source": [
        "### Data Preprocessing"
      ]
    },
    {
      "metadata": {
        "id": "YQVotY7ZQMGM",
        "colab_type": "text"
      },
      "cell_type": "markdown",
      "source": [
        "Since our target variables are categorical values we encode it as one hot vectors so as to easily compare it with the output of the neural network"
      ]
    },
    {
      "metadata": {
        "id": "8eIgQ5v9S_29",
        "colab_type": "code",
        "colab": {}
      },
      "cell_type": "code",
      "source": [
        "num_classes = 26\n",
        "y = keras.utils.to_categorical(y, num_classes)\n",
        "y_test = keras.utils.to_categorical(y_test, num_classes)"
      ],
      "execution_count": 0,
      "outputs": []
    },
    {
      "metadata": {
        "id": "Cigej53YQUv2",
        "colab_type": "code",
        "colab": {}
      },
      "cell_type": "code",
      "source": [
        "y[0]"
      ],
      "execution_count": 0,
      "outputs": []
    },
    {
      "metadata": {
        "id": "Cnl_r7dMEnqb",
        "colab_type": "text"
      },
      "cell_type": "markdown",
      "source": [
        "We also normalize the train and test data "
      ]
    },
    {
      "metadata": {
        "id": "7WvMx-kgTZ0S",
        "colab_type": "code",
        "colab": {}
      },
      "cell_type": "code",
      "source": [
        "x = x.astype('float32')\n",
        "x_test = x_test.astype('float32')\n",
        "x /= 255\n",
        "x_test /= 255"
      ],
      "execution_count": 0,
      "outputs": []
    },
    {
      "metadata": {
        "id": "HkUjW0BPGA8r",
        "colab_type": "text"
      },
      "cell_type": "markdown",
      "source": [
        "Split the data into train and validation sets"
      ]
    },
    {
      "metadata": {
        "id": "0WVhxdgaR9xV",
        "colab_type": "code",
        "colab": {}
      },
      "cell_type": "code",
      "source": [
        "from sklearn.model_selection import train_test_split\n",
        "\n",
        "# Split the training data into train and validation datasets (70-30 split).\n",
        "# Reference - https://scikit-learn.org/stable/modules/generated/sklearn.model_selection.train_test_split.html"
      ],
      "execution_count": 0,
      "outputs": []
    },
    {
      "metadata": {
        "id": "8Nb1n3UXTale",
        "colab_type": "code",
        "colab": {}
      },
      "cell_type": "code",
      "source": [
        "print(x_train.shape)\n",
        "print(x_val.shape)\n",
        "print(y_train.shape)\n",
        "print(y_val.shape)"
      ],
      "execution_count": 0,
      "outputs": []
    },
    {
      "metadata": {
        "id": "eMN2WPMwTcw7",
        "colab_type": "code",
        "colab": {}
      },
      "cell_type": "code",
      "source": [
        "x_train[0]"
      ],
      "execution_count": 0,
      "outputs": []
    },
    {
      "metadata": {
        "id": "1m7xXHIST_Up",
        "colab_type": "code",
        "colab": {}
      },
      "cell_type": "code",
      "source": [
        "y_train[0]"
      ],
      "execution_count": 0,
      "outputs": []
    },
    {
      "metadata": {
        "id": "iUEFFVDIQqVW",
        "colab_type": "text"
      },
      "cell_type": "markdown",
      "source": [
        "# Multi Layer Perceptron with Keras"
      ]
    },
    {
      "metadata": {
        "id": "GL_-7z-BJKuB",
        "colab_type": "text"
      },
      "cell_type": "markdown",
      "source": [
        "### Training"
      ]
    },
    {
      "metadata": {
        "id": "1aeNFVHIQxhZ",
        "colab_type": "code",
        "colab": {}
      },
      "cell_type": "code",
      "source": [
        "import keras\n",
        "from keras.models import Sequential\n",
        "from keras.layers import Dense, Dropout\n",
        "from keras import optimizers\n",
        "from keras.callbacks import EarlyStopping"
      ],
      "execution_count": 0,
      "outputs": []
    },
    {
      "metadata": {
        "id": "HF1CyxT6HDYs",
        "colab_type": "text"
      },
      "cell_type": "markdown",
      "source": [
        "Set the hyperparameters to use in the neural network. Make sure to try different parameters"
      ]
    },
    {
      "metadata": {
        "id": "NS2nB8GYUE5j",
        "colab_type": "code",
        "colab": {}
      },
      "cell_type": "code",
      "source": [
        "# Hyperparameters\n",
        "learning_rate = \n",
        "batch_size = \n",
        "epochs = \n",
        "L1_no_of_neurons = \n",
        "L3_no_of_neurons = \n",
        "L2_dropout = \n",
        "L4_dropout = "
      ],
      "execution_count": 0,
      "outputs": []
    },
    {
      "metadata": {
        "id": "k7R3lSqLHND7",
        "colab_type": "text"
      },
      "cell_type": "markdown",
      "source": [
        "Define the different model layers and compile it"
      ]
    },
    {
      "metadata": {
        "id": "nsJpq8ZcUHUD",
        "colab_type": "code",
        "colab": {}
      },
      "cell_type": "code",
      "source": [
        "model = Sequential()\n",
        "\n",
        "# Add a densely connected NN layer with output dimensionality as 'L1_no_of_neurons' and a relu activation.\n",
        "# Reference - https://keras.io/layers/core/#dense\n",
        "\n",
        "\n",
        "# Add a dropout layer with 'L2_dropout' dropout rate.\n",
        "# Reference - https://keras.io/layers/core/#dropout\n",
        "\n",
        "\n",
        "# Let's add another dense layer with output dimensionality as 'L3_no_of_neurons' and relu activation.\n",
        "\n",
        "\n",
        "# Dropout layer with L4_dropout' dropout rate.\n",
        "\n",
        "\n",
        "# Add a final dense layer with output as 26 classes and softmax activation.\n"
      ],
      "execution_count": 0,
      "outputs": []
    },
    {
      "metadata": {
        "id": "QkIPN1iHRrqi",
        "colab_type": "code",
        "colab": {}
      },
      "cell_type": "code",
      "source": [
        "# Compile the model with an SGD optimizer. Here, we will use the 'categorical_crossentropy' loss function.\n",
        "# Accuracy is one of the metrics we are interested in.\n",
        "# Reference - https://keras.io/models/model/#compile\n"
      ],
      "execution_count": 0,
      "outputs": []
    },
    {
      "metadata": {
        "id": "Fygg_C5IRrtL",
        "colab_type": "code",
        "colab": {}
      },
      "cell_type": "code",
      "source": [
        "# Print the model summary\n",
        "# Reference - https://keras.io/models/about-keras-models/\n"
      ],
      "execution_count": 0,
      "outputs": []
    },
    {
      "metadata": {
        "id": "JNosKOGsIirT",
        "colab_type": "text"
      },
      "cell_type": "markdown",
      "source": [
        "Train the compiled neural network on the training data"
      ]
    },
    {
      "metadata": {
        "id": "9SvhP4isDexL",
        "colab_type": "code",
        "colab": {}
      },
      "cell_type": "code",
      "source": [
        "history = model.fit(x_train, y_train, epochs=epochs, batch_size=batch_size, validation_data=(x_val, y_val), verbose=2, \n",
        "                    callbacks=[EarlyStopping(monitor='val_loss', patience=4, restore_best_weights=True)])"
      ],
      "execution_count": 0,
      "outputs": []
    },
    {
      "metadata": {
        "id": "_axd4XpxJM4S",
        "colab_type": "text"
      },
      "cell_type": "markdown",
      "source": [
        "### Model Performance Visualization"
      ]
    },
    {
      "metadata": {
        "id": "w-5Lbs7BIqiq",
        "colab_type": "text"
      },
      "cell_type": "markdown",
      "source": [
        "Plot a graph of the training and validation accuracy"
      ]
    },
    {
      "metadata": {
        "id": "-JTPRGw7Emfx",
        "colab_type": "code",
        "colab": {}
      },
      "cell_type": "code",
      "source": [
        "plt.plot(history.history['acc'])\n",
        "plt.plot(history.history['val_acc'])\n",
        "plt.title(\"Accuracy\")\n",
        "plt.xlabel('epoch')\n",
        "plt.ylabel('accuracy')\n",
        "plt.legend(['train','val'])\n",
        "plt.show()"
      ],
      "execution_count": 0,
      "outputs": []
    },
    {
      "metadata": {
        "id": "j8yubiaiI1Ug",
        "colab_type": "text"
      },
      "cell_type": "markdown",
      "source": [
        "Plot a graph of the training and validation loss"
      ]
    },
    {
      "metadata": {
        "id": "sbmcs4baI1oV",
        "colab_type": "code",
        "colab": {}
      },
      "cell_type": "code",
      "source": [
        "plt.plot(history.history['loss'])\n",
        "plt.plot(history.history['val_loss'])\n",
        "plt.title(\"Loss\")\n",
        "plt.xlabel('epoch')\n",
        "plt.ylabel('loss')\n",
        "plt.legend(['train','val'])\n",
        "plt.show()"
      ],
      "execution_count": 0,
      "outputs": []
    },
    {
      "metadata": {
        "id": "4Va1S6TUJVAN",
        "colab_type": "text"
      },
      "cell_type": "markdown",
      "source": [
        "### Inference"
      ]
    },
    {
      "metadata": {
        "id": "silbNogvJCLa",
        "colab_type": "text"
      },
      "cell_type": "markdown",
      "source": [
        "Predict the output labels of the test set"
      ]
    },
    {
      "metadata": {
        "id": "qkcByBE6UY1N",
        "colab_type": "code",
        "colab": {}
      },
      "cell_type": "code",
      "source": [
        "# Predict the output labels for the test dataset.\n",
        "# Reference - https://keras.io/models/model/#predict\n"
      ],
      "execution_count": 0,
      "outputs": []
    },
    {
      "metadata": {
        "id": "oCDtyUDAJgQf",
        "colab_type": "text"
      },
      "cell_type": "markdown",
      "source": [
        "Compute the accuracy of the model"
      ]
    },
    {
      "metadata": {
        "id": "HJOvFyxrUa6S",
        "colab_type": "code",
        "colab": {}
      },
      "cell_type": "code",
      "source": [
        "from sklearn.metrics import accuracy_score\n",
        "\n",
        "# Calculate the accuracy of the model.\n",
        "# Reference - https://scikit-learn.org/stable/modules/generated/sklearn.metrics.accuracy_score.html\n"
      ],
      "execution_count": 0,
      "outputs": []
    },
    {
      "metadata": {
        "id": "e-Ce55XwJaH6",
        "colab_type": "text"
      },
      "cell_type": "markdown",
      "source": [
        "## Download the model for online serving"
      ]
    },
    {
      "metadata": {
        "id": "yVUTJU-UUhBs",
        "colab_type": "code",
        "colab": {}
      },
      "cell_type": "code",
      "source": [
        "!pip install tensorflowjs==0.8.5"
      ],
      "execution_count": 0,
      "outputs": []
    },
    {
      "metadata": {
        "id": "kHPmuAmcUhut",
        "colab_type": "code",
        "colab": {}
      },
      "cell_type": "code",
      "source": [
        "import tensorflowjs as tfjs\n",
        "\n",
        "# Save the Keras model we created to use in our web application.\n",
        "tfjs.converters.save_keras_model(model, 'mlp.tfjs')"
      ],
      "execution_count": 0,
      "outputs": []
    },
    {
      "metadata": {
        "id": "nm-vYJeWlKh8",
        "colab_type": "text"
      },
      "cell_type": "markdown",
      "source": [
        "# CNN with Keras"
      ]
    },
    {
      "metadata": {
        "colab_type": "text",
        "id": "BHizPkXTSZcu"
      },
      "cell_type": "markdown",
      "source": [
        "### Data Preprocessing"
      ]
    },
    {
      "metadata": {
        "id": "bEqwsp4nlOwZ",
        "colab_type": "code",
        "colab": {}
      },
      "cell_type": "code",
      "source": [
        "import keras\n",
        "from keras.models import Sequential\n",
        "from keras.layers import Dense, Conv2D, MaxPooling2D, Flatten, Dropout"
      ],
      "execution_count": 0,
      "outputs": []
    },
    {
      "metadata": {
        "id": "G59DEDgvWUpT",
        "colab_type": "text"
      },
      "cell_type": "markdown",
      "source": [
        "Load the train and test dataset and sepearate into data and labels"
      ]
    },
    {
      "metadata": {
        "colab_type": "code",
        "id": "9XndgdTRZGp5",
        "colab": {}
      },
      "cell_type": "code",
      "source": [
        "# Load the train and test datasets.\n",
        "# Reference - https://pandas.pydata.org/pandas-docs/version/0.22/generated/pandas.read_csv.html\n",
        "train = pd.read_csv('./input/sign_mnist_train.csv')\n",
        "test = pd.read_csv('./input/sign_mnist_test.csv')\n",
        "\n",
        "y = train['label'].values\n",
        "y_test = test['label'].values\n",
        "x = (train.drop('label', axis = 1, inplace = False)).values\n",
        "x_test = (test.drop('label', axis = 1, inplace = False)).values"
      ],
      "execution_count": 0,
      "outputs": []
    },
    {
      "metadata": {
        "id": "5IIX117gWad9",
        "colab_type": "text"
      },
      "cell_type": "markdown",
      "source": [
        "Convert the labels into one-hot vectors"
      ]
    },
    {
      "metadata": {
        "colab_type": "code",
        "id": "bLAVsVVAZGjk",
        "colab": {}
      },
      "cell_type": "code",
      "source": [
        "num_classes = 26\n",
        "y = keras.utils.to_categorical(y, num_classes)\n",
        "y_test = keras.utils.to_categorical(y_test, num_classes)"
      ],
      "execution_count": 0,
      "outputs": []
    },
    {
      "metadata": {
        "id": "1xuCB0srWiDf",
        "colab_type": "text"
      },
      "cell_type": "markdown",
      "source": [
        "Normalize the data and reshape to input expected by CNN"
      ]
    },
    {
      "metadata": {
        "id": "ck2MKhgsmjOG",
        "colab_type": "code",
        "colab": {}
      },
      "cell_type": "code",
      "source": [
        "x = x.astype('float32')\n",
        "x_test = x_test.astype('float32')\n",
        "x /=  255\n",
        "x_test /= 255\n",
        "x = x.reshape(x.shape[0], 28, 28, 1)\n",
        "x_test = x_test.reshape(x_test.shape[0], 28, 28, 1)"
      ],
      "execution_count": 0,
      "outputs": []
    },
    {
      "metadata": {
        "id": "vlENl29rWsi-",
        "colab_type": "text"
      },
      "cell_type": "markdown",
      "source": [
        "Split the data into train and validation"
      ]
    },
    {
      "metadata": {
        "colab_type": "code",
        "id": "EQFIFnF2ZGMv",
        "colab": {}
      },
      "cell_type": "code",
      "source": [
        "from sklearn.model_selection import train_test_split\n",
        "\n",
        "# Split the training data into train and validation datasets (70-30 split).\n",
        "# Reference - https://scikit-learn.org/stable/modules/generated/sklearn.model_selection.train_test_split.html\n",
        "x_train, x_val, y_train, y_val = train_test_split(x, y, test_size = 0.3, random_state = 101)"
      ],
      "execution_count": 0,
      "outputs": []
    },
    {
      "metadata": {
        "id": "-Bi6oHoWW6TM",
        "colab_type": "text"
      },
      "cell_type": "markdown",
      "source": [
        "Set the hyperparameters of the model"
      ]
    },
    {
      "metadata": {
        "colab_type": "code",
        "id": "07RofLPYZGcQ",
        "colab": {}
      },
      "cell_type": "code",
      "source": [
        "batch_size = 128\n",
        "num_classes = 26\n",
        "epochs = 10"
      ],
      "execution_count": 0,
      "outputs": []
    },
    {
      "metadata": {
        "id": "1AjO4gd_W7TO",
        "colab_type": "text"
      },
      "cell_type": "markdown",
      "source": [
        "Define the network architecture"
      ]
    },
    {
      "metadata": {
        "id": "irxhj4ThnMdL",
        "colab_type": "code",
        "colab": {}
      },
      "cell_type": "code",
      "source": [
        "model = Sequential()\n",
        "\n",
        "# Add a 2D convolution layer with 64 filters, a 3 x 3 kernel and relu activation.\n",
        "# Reference - https://keras.io/layers/convolutional/#conv2d\n",
        "model.add(Conv2D(64, kernel_size=(3,3), activation = 'relu', input_shape=(28, 28 ,1) ))\n",
        "\n",
        "# The convolution layer is followed by a maxpool layer with a 2 x 2 filter.\n",
        "# Reference - https://keras.io/layers/pooling/#maxpooling2d\n",
        "model.add(MaxPooling2D(pool_size = (2, 2)))\n",
        "\n",
        "# Add another convolution layer with 64 filters, a 3 x 3 kernel and relu activation.\n",
        "# Follow this with a maxpool layer with a 2 x 2 filter.\n",
        "model.add(Conv2D(64, kernel_size = (3, 3), activation = 'relu'))\n",
        "model.add(MaxPooling2D(pool_size = (2, 2)))\n",
        "\n",
        "# Add a third convolution layer with 64 filters, a 3 x 3 kernel and relu activation.\n",
        "# Follow this with a maxpool layer with a 2 x 2 filter.\n",
        "model.add(Conv2D(64, kernel_size = (3, 3), activation = 'relu'))\n",
        "model.add(MaxPooling2D(pool_size = (2, 2)))\n",
        "\n",
        "# Flatten the input to the model.\n",
        "# Reference - https://keras.io/layers/core/#flatten\n",
        "model.add(Flatten())\n",
        "\n",
        "# Add a dense layer with with output space as 128 and relu activation.\n",
        "# Reference - https://keras.io/layers/core/#dense\n",
        "model.add(Dense(128, activation = 'relu'))\n",
        "\n",
        "# Add a droupout layer with 20% of the input units set to 0.\n",
        "# Reference - https://keras.io/layers/core/#dropout\n",
        "model.add(Dropout(0.20))\n",
        "\n",
        "# Add a final dense layer with output as 26 classes and softmax activation.\n",
        "model.add(Dense(num_classes, activation = 'softmax'))"
      ],
      "execution_count": 0,
      "outputs": []
    },
    {
      "metadata": {
        "id": "WnxTz7D7XA_y",
        "colab_type": "text"
      },
      "cell_type": "markdown",
      "source": [
        "Compile the model and view the summary"
      ]
    },
    {
      "metadata": {
        "id": "qWe85VGFnT__",
        "colab_type": "code",
        "colab": {}
      },
      "cell_type": "code",
      "source": [
        "# Compile the model with an Adam optimizer. Here, we will use the 'categorical_crossentropy' loss function.\n",
        "# Accuracy is one of the metrics we are interested in.\n",
        "# Reference - https://keras.io/models/model/#compile\n",
        "model.compile(loss = keras.losses.categorical_crossentropy, optimizer=keras.optimizers.Adam(), metrics=['accuracy'])\n",
        "\n",
        "# Print the model summary\n",
        "# Reference - https://keras.io/models/about-keras-models/\n",
        "model.summary()"
      ],
      "execution_count": 0,
      "outputs": []
    },
    {
      "metadata": {
        "id": "8nEukgrpXFr0",
        "colab_type": "text"
      },
      "cell_type": "markdown",
      "source": [
        "Train the model on the training data"
      ]
    },
    {
      "metadata": {
        "id": "o5liMiHenb56",
        "colab_type": "code",
        "colab": {}
      },
      "cell_type": "code",
      "source": [
        "# Train the model providing training data, labels, validation data, epochs and batch size.\n",
        "# Reference - https://keras.io/models/model/#fit\n",
        "history = model.fit(x_train, y_train, validation_data = (x_val, y_val), epochs=epochs, batch_size=batch_size)"
      ],
      "execution_count": 0,
      "outputs": []
    },
    {
      "metadata": {
        "id": "eTs1FkB6XOpj",
        "colab_type": "text"
      },
      "cell_type": "markdown",
      "source": [
        "Plot the accuracy over train and validation datasets"
      ]
    },
    {
      "metadata": {
        "id": "YaTj3sipnett",
        "colab_type": "code",
        "colab": {}
      },
      "cell_type": "code",
      "source": [
        "plt.plot(history.history['acc'])\n",
        "plt.plot(history.history['val_acc'])\n",
        "plt.title(\"Accuracy\")\n",
        "plt.xlabel('epoch')\n",
        "plt.ylabel('accuracy')\n",
        "plt.legend(['train','val'])\n",
        "plt.show()"
      ],
      "execution_count": 0,
      "outputs": []
    },
    {
      "metadata": {
        "id": "a0sBEHfVcOTN",
        "colab_type": "text"
      },
      "cell_type": "markdown",
      "source": [
        "Plot the loss over train and validation datasets"
      ]
    },
    {
      "metadata": {
        "id": "tTcYbF8ncR60",
        "colab_type": "code",
        "colab": {}
      },
      "cell_type": "code",
      "source": [
        "plt.plot(history.history['loss'])\n",
        "plt.plot(history.history['val_loss'])\n",
        "plt.title(\"Loss\")\n",
        "plt.xlabel('epoch')\n",
        "plt.ylabel('loss')\n",
        "plt.legend(['train','val'])\n",
        "plt.show()"
      ],
      "execution_count": 0,
      "outputs": []
    },
    {
      "metadata": {
        "id": "WRB0N0iRXTkE",
        "colab_type": "text"
      },
      "cell_type": "markdown",
      "source": [
        "### Inference"
      ]
    },
    {
      "metadata": {
        "id": "JyW_9htsXV13",
        "colab_type": "text"
      },
      "cell_type": "markdown",
      "source": [
        "Predict the output labels of the test set"
      ]
    },
    {
      "metadata": {
        "id": "TZgik1Lrpev1",
        "colab_type": "code",
        "colab": {}
      },
      "cell_type": "code",
      "source": [
        "# Predict the output labels for the test dataset.\n",
        "# Reference - https://keras.io/models/model/#predict\n",
        "y_pred = model.predict(x_test)\n",
        "\n",
        "y_pred"
      ],
      "execution_count": 0,
      "outputs": []
    },
    {
      "metadata": {
        "id": "7hn2ZeAfXZaA",
        "colab_type": "text"
      },
      "cell_type": "markdown",
      "source": [
        "Compute the accuracy on the test set"
      ]
    },
    {
      "metadata": {
        "id": "-5LR7Buspih_",
        "colab_type": "code",
        "colab": {}
      },
      "cell_type": "code",
      "source": [
        "from sklearn.metrics import accuracy_score\n",
        "\n",
        "# Calculate the accuracy of the model.\n",
        "# Reference - https://scikit-learn.org/stable/modules/generated/sklearn.metrics.accuracy_score.html\n",
        "accuracy_score(y_test, y_pred.round())"
      ],
      "execution_count": 0,
      "outputs": []
    },
    {
      "metadata": {
        "id": "pqbX3igIXe8_",
        "colab_type": "text"
      },
      "cell_type": "markdown",
      "source": [
        "## Download the model for online serving"
      ]
    },
    {
      "metadata": {
        "id": "pX1eOoVyprN8",
        "colab_type": "code",
        "colab": {}
      },
      "cell_type": "code",
      "source": [
        "!pip install tensorflowjs==0.8.5"
      ],
      "execution_count": 0,
      "outputs": []
    },
    {
      "metadata": {
        "id": "m9oiM8T4pvWM",
        "colab_type": "code",
        "colab": {}
      },
      "cell_type": "code",
      "source": [
        "import tensorflowjs as tfjs\n",
        "\n",
        "# Save the Keras model we created to use in our web application.\n",
        "tfjs.converters.save_keras_model(model, 'cnn.tfjs')"
      ],
      "execution_count": 0,
      "outputs": []
    }
  ]
}